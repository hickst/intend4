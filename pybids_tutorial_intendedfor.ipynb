{
 "cells": [
  {
   "cell_type": "markdown",
   "metadata": {},
   "source": [
    "# Introduction to `pybids`\n",
    "\n",
    "[`pybids`](https://github.com/bids-standard/pybids) is a tool to query, summarize and manipulate data using the BIDS standard. \n",
    "In this tutorial we will use a `pybids` test dataset to illustrate some of the functionality of `pybids.layout`"
   ]
  },
  {
   "cell_type": "code",
   "execution_count": 29,
   "metadata": {
    "ExecuteTime": {
     "end_time": "2018-08-01T20:05:23.628184Z",
     "start_time": "2018-08-01T20:05:22.060937Z"
    },
    "scrolled": true
   },
   "outputs": [],
   "source": [
    "import os\n",
    "import sys\n",
    "import bids\n",
    "from bids import BIDSLayout"
   ]
  },
  {
   "cell_type": "markdown",
   "metadata": {},
   "source": [
    "## The `BIDSLayout`\n",
    "\n",
    "At the core of pybids is the `BIDSLayout` object. A `BIDSLayout` is a lightweight Python class that represents a BIDS project file tree and provides a variety of helpful methods for querying and manipulating BIDS files. While the `BIDSLayout` initializer has a large number of arguments you can use to control the way files are indexed and accessed, you will most commonly initialize a `BIDSLayout` by passing in the BIDS dataset root location as a single argument:"
   ]
  },
  {
   "cell_type": "code",
   "execution_count": 30,
   "metadata": {
    "ExecuteTime": {
     "end_time": "2018-08-01T20:05:23.739377Z",
     "start_time": "2018-08-01T20:05:23.630505Z"
    }
   },
   "outputs": [
    {
     "data": {
      "text/plain": [
       "BIDS Layout: .../Main/Working/IntendedFor/data | Subjects: 3 | Sessions: 2 | Runs: 10"
      ]
     },
     "execution_count": 30,
     "metadata": {},
     "output_type": "execute_result"
    }
   ],
   "source": [
    "# Here we're starting in /Volumes/Main/Working/IntendedFor and adding the data to create the path\n",
    "bids_dir = os.path.join(os.getcwd(), \"data\")\n",
    "\n",
    "# Initialize the layout\n",
    "# following setting avoids an annoying warning message about deprecated feature\n",
    "bids.config.set_option('extension_initial_dot', True)\n",
    "layout = BIDSLayout(bids_dir, validate=False)\n",
    "\n",
    "# Print some basic information about the layout\n",
    "layout"
   ]
  },
  {
   "cell_type": "markdown",
   "metadata": {},
   "source": [
    "### Querying the `BIDSLayout`\n",
    "When we initialize a `BIDSLayout`, all of the files and metadata found under the specified root folder are indexed. This can take a few seconds (or, for very large datasets, a minute or two). Once initialization is complete, we can start querying the `BIDSLayout` in various ways. The workhorse method is [`.get()`](https://bids-standard.github.io/pybids/generated/bids.grabbids.BIDSLayout.html#bids.grabbids.BIDSLayout.get). If we call `.get()` with no additional arguments, we get back a list of all the BIDS files in our dataset:"
   ]
  },
  {
   "cell_type": "code",
   "execution_count": 31,
   "metadata": {},
   "outputs": [
    {
     "name": "stdout",
     "output_type": "stream",
     "text": [
      "There are 130 files in the layout.\n",
      "\n",
      "The first 10 files are:\n"
     ]
    },
    {
     "data": {
      "text/plain": [
       "[<BIDSJSONFile filename='/Volumes/Main/Working/IntendedFor/data/dataset_description.json'>,\n",
       " <BIDSImageFile filename='/Volumes/Main/Working/IntendedFor/data/sub-078/anat/sub-078_defacemask.nii.gz'>,\n",
       " <BIDSJSONFile filename='/Volumes/Main/Working/IntendedFor/data/sub-078/anat/sub-078_T1w.json'>,\n",
       " <BIDSImageFile filename='/Volumes/Main/Working/IntendedFor/data/sub-078/anat/sub-078_T1w.nii.gz'>,\n",
       " <BIDSFile filename='/Volumes/Main/Working/IntendedFor/data/sub-078/dwi/sub-078_acq-AP_dwi.bval'>,\n",
       " <BIDSFile filename='/Volumes/Main/Working/IntendedFor/data/sub-078/dwi/sub-078_acq-AP_dwi.bvec'>,\n",
       " <BIDSJSONFile filename='/Volumes/Main/Working/IntendedFor/data/sub-078/dwi/sub-078_acq-AP_dwi.json'>,\n",
       " <BIDSImageFile filename='/Volumes/Main/Working/IntendedFor/data/sub-078/dwi/sub-078_acq-AP_dwi.nii.gz'>,\n",
       " <BIDSFile filename='/Volumes/Main/Working/IntendedFor/data/sub-078/fmap/sub-078_dir-PA_epi.bval'>,\n",
       " <BIDSFile filename='/Volumes/Main/Working/IntendedFor/data/sub-078/fmap/sub-078_dir-PA_epi.bvec'>]"
      ]
     },
     "execution_count": 31,
     "metadata": {},
     "output_type": "execute_result"
    }
   ],
   "source": [
    "all_files = layout.get()\n",
    "print(\"There are {} files in the layout.\".format(len(all_files)))\n",
    "print(\"\\nThe first 10 files are:\")\n",
    "all_files[:10]"
   ]
  },
  {
   "cell_type": "markdown",
   "metadata": {},
   "source": [
    "The returned object is a Python list. By default, each element in the list is a `BIDSFile` object. We discuss the `BIDSFile` object in much more detail below. For now, let's simplify things and work with just filenames:"
   ]
  },
  {
   "cell_type": "code",
   "execution_count": 32,
   "metadata": {},
   "outputs": [
    {
     "data": {
      "text/plain": [
       "['/Volumes/Main/Working/IntendedFor/data/dataset_description.json',\n",
       " '/Volumes/Main/Working/IntendedFor/data/sub-078/anat/sub-078_defacemask.nii.gz',\n",
       " '/Volumes/Main/Working/IntendedFor/data/sub-078/anat/sub-078_T1w.json',\n",
       " '/Volumes/Main/Working/IntendedFor/data/sub-078/anat/sub-078_T1w.nii.gz',\n",
       " '/Volumes/Main/Working/IntendedFor/data/sub-078/dwi/sub-078_acq-AP_dwi.bval',\n",
       " '/Volumes/Main/Working/IntendedFor/data/sub-078/dwi/sub-078_acq-AP_dwi.bvec',\n",
       " '/Volumes/Main/Working/IntendedFor/data/sub-078/dwi/sub-078_acq-AP_dwi.json',\n",
       " '/Volumes/Main/Working/IntendedFor/data/sub-078/dwi/sub-078_acq-AP_dwi.nii.gz',\n",
       " '/Volumes/Main/Working/IntendedFor/data/sub-078/fmap/sub-078_dir-PA_epi.bval',\n",
       " '/Volumes/Main/Working/IntendedFor/data/sub-078/fmap/sub-078_dir-PA_epi.bvec']"
      ]
     },
     "execution_count": 32,
     "metadata": {},
     "output_type": "execute_result"
    }
   ],
   "source": [
    "layout.get(return_type='filename')[:10]"
   ]
  },
  {
   "cell_type": "markdown",
   "metadata": {
    "tags": []
   },
   "source": [
    "This time, we get back only the names of the files."
   ]
  },
  {
   "cell_type": "markdown",
   "metadata": {},
   "source": [
    "Get all files for all the subject's T1 weighted images. Note that (optional) sessions are taken into account."
   ]
  },
  {
   "cell_type": "code",
   "execution_count": 34,
   "metadata": {},
   "outputs": [
    {
     "data": {
      "text/plain": [
       "[<BIDSJSONFile filename='/Volumes/Main/Working/IntendedFor/data/sub-078/anat/sub-078_T1w.json'>,\n",
       " <BIDSImageFile filename='/Volumes/Main/Working/IntendedFor/data/sub-078/anat/sub-078_T1w.nii.gz'>,\n",
       " <BIDSJSONFile filename='/Volumes/Main/Working/IntendedFor/data/sub-188/anat/sub-188_T1w.json'>,\n",
       " <BIDSImageFile filename='/Volumes/Main/Working/IntendedFor/data/sub-188/anat/sub-188_T1w.nii.gz'>,\n",
       " <BIDSJSONFile filename='/Volumes/Main/Working/IntendedFor/data/sub-219/ses-ctbs/anat/sub-219_ses-ctbs_T1w.json'>,\n",
       " <BIDSImageFile filename='/Volumes/Main/Working/IntendedFor/data/sub-219/ses-ctbs/anat/sub-219_ses-ctbs_T1w.nii.gz'>,\n",
       " <BIDSJSONFile filename='/Volumes/Main/Working/IntendedFor/data/sub-219/ses-itbs/anat/sub-219_ses-itbs_T1w.json'>,\n",
       " <BIDSImageFile filename='/Volumes/Main/Working/IntendedFor/data/sub-219/ses-itbs/anat/sub-219_ses-itbs_T1w.nii.gz'>]"
      ]
     },
     "execution_count": 34,
     "metadata": {},
     "output_type": "execute_result"
    }
   ],
   "source": [
    "layout.get(target='subject', suffix='T1w')"
   ]
  },
  {
   "cell_type": "code",
   "execution_count": 35,
   "metadata": {},
   "outputs": [
    {
     "data": {
      "text/plain": [
       "[<BIDSJSONFile filename='/Volumes/Main/Working/IntendedFor/data/sub-078/fmap/sub-078_phasediff.json'>,\n",
       " <BIDSImageFile filename='/Volumes/Main/Working/IntendedFor/data/sub-078/fmap/sub-078_phasediff.nii.gz'>,\n",
       " <BIDSJSONFile filename='/Volumes/Main/Working/IntendedFor/data/sub-188/fmap/sub-188_phasediff.json'>,\n",
       " <BIDSImageFile filename='/Volumes/Main/Working/IntendedFor/data/sub-188/fmap/sub-188_phasediff.nii.gz'>,\n",
       " <BIDSJSONFile filename='/Volumes/Main/Working/IntendedFor/data/sub-219/ses-ctbs/fmap/sub-219_ses-ctbs_phasediff.json'>,\n",
       " <BIDSImageFile filename='/Volumes/Main/Working/IntendedFor/data/sub-219/ses-ctbs/fmap/sub-219_ses-ctbs_phasediff.nii.gz'>,\n",
       " <BIDSJSONFile filename='/Volumes/Main/Working/IntendedFor/data/sub-219/ses-itbs/fmap/sub-219_ses-itbs_phasediff.json'>,\n",
       " <BIDSImageFile filename='/Volumes/Main/Working/IntendedFor/data/sub-219/ses-itbs/fmap/sub-219_ses-itbs_phasediff.nii.gz'>]"
      ]
     },
     "execution_count": 35,
     "metadata": {},
     "output_type": "execute_result"
    }
   ],
   "source": [
    "pd_fyls = layout.get(target='subject', suffix='phasediff')\n",
    "pd_fyls"
   ]
  },
  {
   "cell_type": "code",
   "execution_count": 36,
   "metadata": {},
   "outputs": [
    {
     "name": "stdout",
     "output_type": "stream",
     "text": [
      "sub-078/fmap/sub-078_phasediff.json\n",
      "sub-078/fmap/sub-078_phasediff.nii.gz\n",
      "sub-188/fmap/sub-188_phasediff.json\n",
      "sub-188/fmap/sub-188_phasediff.nii.gz\n",
      "sub-219/ses-ctbs/fmap/sub-219_ses-ctbs_phasediff.json\n",
      "sub-219/ses-ctbs/fmap/sub-219_ses-ctbs_phasediff.nii.gz\n",
      "sub-219/ses-itbs/fmap/sub-219_ses-itbs_phasediff.json\n",
      "sub-219/ses-itbs/fmap/sub-219_ses-itbs_phasediff.nii.gz\n"
     ]
    }
   ],
   "source": [
    "for fyl in pd_fyls:\n",
    "    print(fyl.relpath)"
   ]
  },
  {
   "cell_type": "code",
   "execution_count": 41,
   "metadata": {},
   "outputs": [
    {
     "name": "stdout",
     "output_type": "stream",
     "text": [
      "<BIDSJSONFile filename='/Volumes/Main/Working/IntendedFor/data/sub-078/fmap/sub-078_phasediff.json'>\n",
      "<BIDSJSONFile filename='/Volumes/Main/Working/IntendedFor/data/sub-188/fmap/sub-188_phasediff.json'>\n",
      "<BIDSJSONFile filename='/Volumes/Main/Working/IntendedFor/data/sub-219/ses-ctbs/fmap/sub-219_ses-ctbs_phasediff.json'>\n",
      "<BIDSJSONFile filename='/Volumes/Main/Working/IntendedFor/data/sub-219/ses-itbs/fmap/sub-219_ses-itbs_phasediff.json'>\n"
     ]
    }
   ],
   "source": [
    "jfyls = [f for f in pd_fyls if f.filename.endswith('.json')]\n",
    "for j in jfyls:\n",
    "    print(j)"
   ]
  },
  {
   "cell_type": "code",
   "execution_count": 42,
   "metadata": {},
   "outputs": [
    {
     "data": {
      "text/plain": [
       "<BIDSJSONFile filename='/Volumes/Main/Working/IntendedFor/data/sub-078/fmap/sub-078_phasediff.json'>"
      ]
     },
     "execution_count": 42,
     "metadata": {},
     "output_type": "execute_result"
    }
   ],
   "source": [
    "jf = jfyls[0]\n",
    "jf"
   ]
  },
  {
   "cell_type": "code",
   "execution_count": 43,
   "metadata": {},
   "outputs": [
    {
     "data": {
      "text/plain": [
       "'{\\n  \"AcquisitionMatrixPE\": 68,\\n  \"AcquisitionNumber\": 1,\\n  \"AcquisitionTime\": \"14:44:19.717500\",\\n  \"BaseResolution\": 68,\\n  \"BodyPartExamined\": \"HEAD\",\\n  \"ConsistencyInfo\": \"N4_VD13A_LATEST_20120616\",\\n  \"ConversionSoftware\": \"dcm2niix\",\\n  \"ConversionSoftwareVersion\": \"v1.0.20190410  GCC6.3.0\",\\n  \"DeviceSerialNumber\": \"45424\",\\n  \"DwellTime\": 2.53e-05,\\n  \"EchoNumber\": 2,\\n  \"EchoTime\": 0.00738,\\n  \"EchoTime1\": 0.00492,\\n  \"EchoTime2\": 0.00738,\\n  \"FlipAngle\": 60,\\n  \"ImageOrientationPatientDICOM\": [1, -2.05103e-10, 0, 2.05103e-10, 1, 0],\\n  \"ImageType\": [\\n    \"ORIGINAL\",\\n    \"PRIMARY\",\\n    \"P\",\\n    \"ND\"\\n],\\n  \"ImagingFrequency\": 123.253,\\n  \"InPlanePhaseEncodingDirectionDICOM\": \"ROW\",\\n  \"InstitutionAddress\": \"North_Warren_Ave_1609_Tucson_Denver_US_85719\",\\n  \"InstitutionName\": \"University_of_Arizona\",\\n  \"InstitutionalDepartmentName\": \"Department\",\\n  \"MRAcquisitionType\": \"2D\",\\n  \"MagneticFieldStrength\": 3,\\n  \"Manufacturer\": \"Siemens\",\\n  \"ManufacturersModelName\": \"Skyra\",\\n  \"Modality\": \"MR\",\\n  \"PartialFourier\": 1,\\n  \"PatientPosition\": \"HFS\",\\n  \"PercentPhaseFOV\": 100,\\n  \"PhaseEncodingDirection\": \"i\",\\n  \"PhaseEncodingSteps\": 68,\\n  \"PhaseResolution\": 1,\\n  \"PixelBandwidth\": 290,\\n  \"ProcedureStepDescription\": \"Plante_Pilot\",\\n  \"ProtocolName\": \"gre_field_mapping\",\\n  \"PulseSequenceDetails\": \"%SiemensSeq%_gre_field_mapping\",\\n  \"ReceiveCoilActiveElements\": \"HEA;HEP\",\\n  \"ReceiveCoilName\": \"Head_32\",\\n  \"ReconMatrixPE\": 68,\\n  \"RepetitionTime\": 0.434,\\n  \"SAR\": 0.149661,\\n  \"ScanningSequence\": \"GR\",\\n  \"SequenceName\": \"_fm2d2r\",\\n  \"SequenceVariant\": \"SP\",\\n  \"SeriesDescription\": \"gre_field_mapping\",\\n  \"SeriesNumber\": 4,\\n  \"ShimSetting\": [8271, -12985, 14711, 133, 277, 107, 367, -175],\\n  \"SliceThickness\": 3,\\n  \"SoftwareVersions\": \"syngo_MR_D13\",\\n  \"SpacingBetweenSlices\": 3.75,\\n  \"StationName\": \"AWP45424\",\\n  \"TxRefAmp\": 320.276}'"
      ]
     },
     "execution_count": 43,
     "metadata": {},
     "output_type": "execute_result"
    }
   ],
   "source": [
    "jf.get_json()"
   ]
  },
  {
   "cell_type": "code",
   "execution_count": 46,
   "metadata": {},
   "outputs": [
    {
     "data": {
      "text/plain": [
       "[<BIDSImageFile filename='/Volumes/Main/Working/IntendedFor/data/sub-219/ses-ctbs/func/sub-219_ses-ctbs_task-rest_run-01_bold.nii.gz'>,\n",
       " <BIDSImageFile filename='/Volumes/Main/Working/IntendedFor/data/sub-219/ses-ctbs/func/sub-219_ses-ctbs_task-rest_run-02_bold.nii.gz'>,\n",
       " <BIDSImageFile filename='/Volumes/Main/Working/IntendedFor/data/sub-219/ses-itbs/func/sub-219_ses-itbs_task-rest_run-01_bold.nii.gz'>,\n",
       " <BIDSImageFile filename='/Volumes/Main/Working/IntendedFor/data/sub-219/ses-itbs/func/sub-219_ses-itbs_task-rest_run-02_bold.nii.gz'>]"
      ]
     },
     "execution_count": 46,
     "metadata": {},
     "output_type": "execute_result"
    }
   ],
   "source": [
    "# Get BOLD image files for a single subject:\n",
    "layout.get(subject='219', extension='nii.gz', suffix='bold')"
   ]
  },
  {
   "cell_type": "code",
   "execution_count": 47,
   "metadata": {},
   "outputs": [
    {
     "data": {
      "text/plain": [
       "[<BIDSImageFile filename='/Volumes/Main/Working/IntendedFor/data/sub-219/ses-itbs/func/sub-219_ses-itbs_task-rest_run-01_bold.nii.gz'>,\n",
       " <BIDSImageFile filename='/Volumes/Main/Working/IntendedFor/data/sub-219/ses-itbs/func/sub-219_ses-itbs_task-rest_run-02_bold.nii.gz'>]"
      ]
     },
     "execution_count": 47,
     "metadata": {},
     "output_type": "execute_result"
    }
   ],
   "source": [
    "# Same as above, but for one session only:\n",
    "layout.get(subject='219', session='itbs', extension='nii.gz', suffix='bold')"
   ]
  },
  {
   "cell_type": "markdown",
   "metadata": {},
   "source": [
    "### Filtering files by entities\n",
    "The utility of the `BIDSLayout` would be pretty limited if all we could do was retrieve a list of all files in the dataset. Fortunately, the `.get()` method accepts all kinds of arguments that allow us to filter the result set based on specified criteria. In fact, we can pass *any* BIDS-defined keywords (or, as they're called in PyBIDS, *entities*) as constraints. For example, here's how we would retrieve all BOLD runs with `.nii.gz` extensions for subject `'01'`:"
   ]
  },
  {
   "cell_type": "code",
   "execution_count": 17,
   "metadata": {},
   "outputs": [
    {
     "data": {
      "text/plain": [
       "['/Volumes/Main/Working/IntendedFor/data/sub-219/ses-ctbs/func/sub-219_ses-ctbs_task-rest_run-01_bold.nii.gz',\n",
       " '/Volumes/Main/Working/IntendedFor/data/sub-219/ses-ctbs/func/sub-219_ses-ctbs_task-rest_run-02_bold.nii.gz',\n",
       " '/Volumes/Main/Working/IntendedFor/data/sub-219/ses-itbs/func/sub-219_ses-itbs_task-rest_run-01_bold.nii.gz',\n",
       " '/Volumes/Main/Working/IntendedFor/data/sub-219/ses-itbs/func/sub-219_ses-itbs_task-rest_run-02_bold.nii.gz']"
      ]
     },
     "execution_count": 17,
     "metadata": {},
     "output_type": "execute_result"
    }
   ],
   "source": [
    "# Retrieve filenames of all BOLD runs for subject 219\n",
    "layout.get(subject='219', extension='nii.gz', suffix='bold', return_type='filename')"
   ]
  },
  {
   "cell_type": "markdown",
   "metadata": {},
   "source": [
    "If you're wondering what entities you can pass in as filtering arguments, the answer is contained in the `.json` configuration files [housed here](https://github.com/bids-standard/pybids/tree/master/bids/layout/config). To save you the trouble, here are a few of the most common entities:\n",
    "\n",
    "* `suffix`: The part of a BIDS filename just before the extension (e.g., `'bold'`, `'events'`, `'physio'`, etc.).\n",
    "* `subject`: The subject label\n",
    "* `session`: The session label\n",
    "* `run`: The run index\n",
    "* `task`: The task name\n",
    "\n",
    "New entities are continually being defined as the spec grows, and in principle (though not always in practice), PyBIDS should be aware of all entities that are defined in the BIDS specification.\n",
    "\n",
    "### Filtering by metadata\n",
    "All of the entities listed above are found in the names of BIDS files. But sometimes we want to search for files based not just on their names, but also based on metadata defined (per the BIDS spec) in JSON files. Fortunately for us, when we initialize a `BIDSLayout`, all metadata files associated with BIDS files are automatically indexed. This means we can pass any key that occurs in any JSON file in our project as an argument to `.get()`. We can combine these with any number of core BIDS entities (like `subject`, `run`, etc.).\n",
    "\n",
    "For example, say we want to retrieve all files where (a) the value of `SamplingFrequency` (a metadata key) is `100`, (b) the `acquisition` type is `'prefrontal'`, and (c) the subject is `'01'` or `'02'`. Here's how we can do that:"
   ]
  },
  {
   "cell_type": "code",
   "execution_count": 27,
   "metadata": {},
   "outputs": [
    {
     "data": {
      "text/plain": [
       "[<BIDSImageFile filename='/Volumes/Main/Working/IntendedFor/data/sub-219/ses-ctbs/fmap/sub-219_ses-ctbs_magnitude1.nii.gz'>,\n",
       " <BIDSImageFile filename='/Volumes/Main/Working/IntendedFor/data/sub-219/ses-ctbs/fmap/sub-219_ses-ctbs_magnitude2.nii.gz'>,\n",
       " <BIDSImageFile filename='/Volumes/Main/Working/IntendedFor/data/sub-219/ses-ctbs/fmap/sub-219_ses-ctbs_phasediff.nii.gz'>,\n",
       " <BIDSImageFile filename='/Volumes/Main/Working/IntendedFor/data/sub-219/ses-itbs/fmap/sub-219_ses-itbs_magnitude1.nii.gz'>,\n",
       " <BIDSImageFile filename='/Volumes/Main/Working/IntendedFor/data/sub-219/ses-itbs/fmap/sub-219_ses-itbs_magnitude2.nii.gz'>,\n",
       " <BIDSImageFile filename='/Volumes/Main/Working/IntendedFor/data/sub-219/ses-itbs/fmap/sub-219_ses-itbs_phasediff.nii.gz'>]"
      ]
     },
     "execution_count": 27,
     "metadata": {},
     "output_type": "execute_result"
    }
   ],
   "source": [
    "# Retrieve all files where RepetitionTime (a metadata key) = 6\n",
    "# and acquisition = tse, for the three subjects\n",
    "# layout.get(subject=['078', '188', '219'], RepetitionTime=6, acquisition=\"tse\")\n",
    "# get all \n",
    "layout.get(subject=['219'], SliceThickness=3)"
   ]
  }
 ],
 "metadata": {
  "kernelspec": {
   "display_name": "Python 3",
   "language": "python",
   "name": "python3"
  },
  "language_info": {
   "codemirror_mode": {
    "name": "ipython",
    "version": 3
   },
   "file_extension": ".py",
   "mimetype": "text/x-python",
   "name": "python",
   "nbconvert_exporter": "python",
   "pygments_lexer": "ipython3",
   "version": "3.9.4"
  },
  "toc": {
   "nav_menu": {},
   "number_sections": true,
   "sideBar": true,
   "skip_h1_title": false,
   "toc_cell": false,
   "toc_position": {},
   "toc_section_display": "block",
   "toc_window_display": false
  }
 },
 "nbformat": 4,
 "nbformat_minor": 4
}
