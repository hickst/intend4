{
 "cells": [
  {
   "cell_type": "markdown",
   "metadata": {},
   "source": [
    "# Pybids\n",
    "\n",
    "[`pybids`](https://github.com/bids-standard/pybids) is a tool to query, summarize and manipulate data using the BIDS standard. \n",
    "In this tutorial we will use a `pybids` test dataset to illustrate some of the functionality of `pybids.layout`\n",
    "\n",
    "## Jupyter Notebook Tips\n",
    "- There is a table of contents based on markdown: toggle with hamburger menu on far left\n",
    "- Hit ESC to make sure you are in command mode and you are not inside the cell:\n",
    "- Shift+Enter to run a cell\n",
    "- `dd` to delete a cell\n",
    "- `a` to insert a cell above\n",
    "- `b` to insert a cell below"
   ]
  },
  {
   "cell_type": "code",
   "execution_count": 156,
   "metadata": {
    "ExecuteTime": {
     "end_time": "2018-08-01T20:05:23.628184Z",
     "start_time": "2018-08-01T20:05:22.060937Z"
    },
    "scrolled": true
   },
   "outputs": [],
   "source": [
    "import os\n",
    "import sys\n",
    "import bids\n",
    "from bids import BIDSLayout"
   ]
  },
  {
   "cell_type": "markdown",
   "metadata": {},
   "source": [
    "## Create the `BIDSLayout` Instance\n",
    "\n",
    "At the core of pybids is the `BIDSLayout` object. A `BIDSLayout` is a lightweight Python class that represents a BIDS project file tree and provides a variety of helpful methods for querying and manipulating BIDS files. While the `BIDSLayout` initializer has a large number of arguments you can use to control the way files are indexed and accessed, you will most commonly initialize a `BIDSLayout` by passing in the BIDS dataset root location as a single argument:"
   ]
  },
  {
   "cell_type": "code",
   "execution_count": 160,
   "metadata": {
    "ExecuteTime": {
     "end_time": "2018-08-01T20:05:23.739377Z",
     "start_time": "2018-08-01T20:05:23.630505Z"
    }
   },
   "outputs": [
    {
     "name": "stdout",
     "output_type": "stream",
     "text": [
      "BIDS Layout: .../Main/Working/IntendedFor/data | Subjects: 3 | Sessions: 2 | Runs: 10\n",
      "\n",
      "type of layout is: <class 'bids.layout.layout.BIDSLayout'>\n"
     ]
    }
   ],
   "source": [
    "# Here we're starting in /Volumes/Main/Working/IntendedFor and adding the data to create the path to create the\n",
    "# variable bids_dir to hold the dataset root\n",
    "bids_dir = os.path.join(os.getcwd(), \"data\")\n",
    "\n",
    "# Initialize the layout\n",
    "# following setting avoids an annoying warning message about deprecated feature\n",
    "bids.config.set_option('extension_initial_dot', True)\n",
    "layout = BIDSLayout(bids_dir, validate=False)\n",
    "\n",
    "# Print some basic information about the layout\n",
    "print(layout)\n",
    "print(\"\")\n",
    "print(f\"type of layout is: {type(layout)}\")"
   ]
  },
  {
   "cell_type": "markdown",
   "metadata": {},
   "source": [
    "## BIDSLayout get()\n",
    "\n",
    "- When we initialize a `BIDSLayout`, all of the files and metadata found under the specified root folder are indexed. This can take a few seconds (or, for very large datasets, a minute or two). \n",
    "- Once initialization is complete, we can start querying the `BIDSLayout` in various ways. \n",
    "- The workhorse method is [`.get()`](https://bids-standard.github.io/pybids/generated/bids.grabbids.BIDSLayout.html#bids.grabbids.BIDSLayout.get). If we call `.get()` with no additional arguments, we get back a list of all the BIDS files in our dataset. \n",
    "- When you call `.get()` on a `BIDSLayout`, the default returned values are objects of class `BIDSFile`. A `BIDSFile` is a lightweight container for individual files in a BIDS dataset. It provides easy access to a variety of useful attributes and methods. \n",
    "\n",
    "These three special functions retrieve Python **lists** containing **strings**.\n",
    "\n",
    "- subjects\n",
    "- sessions\n",
    "- tasks\n",
    "\n",
    "### Get count of files with layout.get()"
   ]
  },
  {
   "cell_type": "code",
   "execution_count": null,
   "metadata": {},
   "outputs": [],
   "source": [
    "all_files = layout.get()\n",
    "\n",
    "# count of files in layout.get using len:\n",
    "print(f\"Using len to count files from layout.get(): {len(all_files)}\")"
   ]
  },
  {
   "cell_type": "markdown",
   "metadata": {},
   "source": [
    "### Built-in layout.get() functiona\n",
    "\n",
    "These three special functions retrieve Python **lists** containing **strings**.\n",
    "\n",
    "#### subjects"
   ]
  },
  {
   "cell_type": "code",
   "execution_count": 163,
   "metadata": {},
   "outputs": [
    {
     "name": "stdout",
     "output_type": "stream",
     "text": [
      "['078', '188', '219']\n",
      "\n",
      "The sub_list is of type: <class 'list'>\n",
      "An item from the list is of type: <class 'str'>\n"
     ]
    }
   ],
   "source": [
    "# Special built-in function to list subjects \n",
    "sub_list=layout.get_subjects()\n",
    "print(sub_list)\n",
    "print(\"\")\n",
    "# Retrieve the type of the collection and of the items in the collection\n",
    "\n",
    "print(f\"The sub_list is of type: {type(sub_list)}\")\n",
    "print(f\"An item from the list is of type: {type(sub_list[0])}\")\n",
    "# Alternatively \n",
    "# layout.get(return_type='id', target='subject') \n",
    "# does the same thing, returning a list of strings"
   ]
  },
  {
   "cell_type": "markdown",
   "metadata": {},
   "source": [
    "#### sesions"
   ]
  },
  {
   "cell_type": "code",
   "execution_count": 118,
   "metadata": {},
   "outputs": [
    {
     "data": {
      "text/plain": [
       "['ctbs', 'itbs']"
      ]
     },
     "execution_count": 118,
     "metadata": {},
     "output_type": "execute_result"
    }
   ],
   "source": [
    "# Special built-in function to list sessions\n",
    "layout.get_sessions()\n",
    "\n",
    "# Alternatively\n",
    "# layout.get(return_type='id', target='session')\n",
    "# does the same thing"
   ]
  },
  {
   "cell_type": "markdown",
   "metadata": {},
   "source": [
    "#### tasks"
   ]
  },
  {
   "cell_type": "code",
   "execution_count": 119,
   "metadata": {},
   "outputs": [
    {
     "data": {
      "text/plain": [
       "['nad1', 'rest', 'russian', 'wb2']"
      ]
     },
     "execution_count": 119,
     "metadata": {},
     "output_type": "execute_result"
    }
   ],
   "source": [
    "# Special built-in function to list tasks\n",
    "layout.get_tasks()\n",
    "\n",
    "# Alternatively\n",
    "# layout.get(return_type='id', target='task')\n",
    "# does the same thing"
   ]
  },
  {
   "cell_type": "markdown",
   "metadata": {},
   "source": [
    "### Filter the `BIDSLayout` Queries\n",
    "\n",
    "The utility of the `BIDSLayout` would be pretty limited if all we could do was retrieve a list of all files in the dataset. Fortunately, the `.get()` method accepts all kinds of arguments that allow us to filter the result set based on specified criteria. In fact, we can pass *any* BIDS-defined keywords (or, as they're called in PyBIDS, *entities*) as constraints. \n",
    "\n",
    "If you're wondering what entities you can pass in as filtering arguments, the answer is contained in the `.json` configuration files [housed here](https://github.com/bids-standard/pybids/tree/master/bids/layout/config). To save you the trouble, here are a few of the most common entities:\n",
    "\n",
    "* `suffix`: The part of a BIDS filename just before the extension (e.g., `'bold'`, `'events'`, `'phasediff'` etc.).\n",
    "* `subject`: The subject label (the string after `sub-`\n",
    "* `session`: The session label (the string after `ses-`\n",
    "* `run`: The run index (the string after `run-`\n",
    "* `task`: The task name (the string after `task`\n",
    "\n",
    "The spec is evolving."
   ]
  },
  {
   "cell_type": "markdown",
   "metadata": {},
   "source": [
    "#### get file objects where suffix=T1w  "
   ]
  },
  {
   "cell_type": "code",
   "execution_count": 325,
   "metadata": {
    "tags": []
   },
   "outputs": [
    {
     "name": "stdout",
     "output_type": "stream",
     "text": [
      "<BIDSJSONFile filename='/Volumes/Main/Working/IntendedFor/data/sub-078/anat/sub-078_T1w.json'>\n",
      "<BIDSImageFile filename='/Volumes/Main/Working/IntendedFor/data/sub-078/anat/sub-078_T1w.nii.gz'>\n",
      "<BIDSJSONFile filename='/Volumes/Main/Working/IntendedFor/data/sub-188/anat/sub-188_T1w.json'>\n",
      "<BIDSImageFile filename='/Volumes/Main/Working/IntendedFor/data/sub-188/anat/sub-188_T1w.nii.gz'>\n",
      "<BIDSJSONFile filename='/Volumes/Main/Working/IntendedFor/data/sub-219/ses-ctbs/anat/sub-219_ses-ctbs_T1w.json'>\n",
      "<BIDSImageFile filename='/Volumes/Main/Working/IntendedFor/data/sub-219/ses-ctbs/anat/sub-219_ses-ctbs_T1w.nii.gz'>\n",
      "<BIDSJSONFile filename='/Volumes/Main/Working/IntendedFor/data/sub-219/ses-itbs/anat/sub-219_ses-itbs_T1w.json'>\n",
      "<BIDSImageFile filename='/Volumes/Main/Working/IntendedFor/data/sub-219/ses-itbs/anat/sub-219_ses-itbs_T1w.nii.gz'>\n",
      "\n",
      "filetype of default collection: <class 'list'>\n",
      "filetype of item: <class 'bids.layout.models.BIDSJSONFile'>\n"
     ]
    }
   ],
   "source": [
    "# Return all T1w file objects (the default): This is a list of objects of type `BIDSFile`:\n",
    "# Both of these statements produce the same results\n",
    "# layout.get(target='subject', suffix='T1w')\n",
    "T1w=layout.get(suffix='T1w')\n",
    "\n",
    "# Print one per line\n",
    "# for t1 in T1w:\n",
    "#    print(t1)\n",
    "    \n",
    "# Rewrite as list comprehension\n",
    "\n",
    "[ print(t1) for t1 in T1w]\n",
    "    \n",
    "print(\"\")\n",
    "print(f\"filetype of default collection: {type(T1w)}\")\n",
    "print(f\"filetype of item: {type(T1w[0])}\")"
   ]
  },
  {
   "cell_type": "markdown",
   "metadata": {},
   "source": [
    "#### get filename strings where suffix=T1w"
   ]
  },
  {
   "cell_type": "code",
   "execution_count": 326,
   "metadata": {
    "tags": []
   },
   "outputs": [
    {
     "name": "stdout",
     "output_type": "stream",
     "text": [
      "/Volumes/Main/Working/IntendedFor/data/sub-078/anat/sub-078_T1w.json\n",
      "/Volumes/Main/Working/IntendedFor/data/sub-078/anat/sub-078_T1w.nii.gz\n",
      "/Volumes/Main/Working/IntendedFor/data/sub-188/anat/sub-188_T1w.json\n",
      "/Volumes/Main/Working/IntendedFor/data/sub-188/anat/sub-188_T1w.nii.gz\n",
      "/Volumes/Main/Working/IntendedFor/data/sub-219/ses-ctbs/anat/sub-219_ses-ctbs_T1w.json\n",
      "/Volumes/Main/Working/IntendedFor/data/sub-219/ses-ctbs/anat/sub-219_ses-ctbs_T1w.nii.gz\n",
      "/Volumes/Main/Working/IntendedFor/data/sub-219/ses-itbs/anat/sub-219_ses-itbs_T1w.json\n",
      "/Volumes/Main/Working/IntendedFor/data/sub-219/ses-itbs/anat/sub-219_ses-itbs_T1w.nii.gz\n",
      "\n",
      "filetype of collection for return_type='filename': <class 'list'>\n",
      "filetype of item: <class 'str'>\n"
     ]
    }
   ],
   "source": [
    "# Return all T1w file names: This is a list of strings instead of objects because return-type='filename':\n",
    "t1_ft=layout.get(return_type='filename', suffix='T1w')\n",
    "\n",
    "# for t1f in t1_ft:\n",
    "#    print(t1f)\n",
    "\n",
    "# Rewrite for loop as list comprehension\n",
    "[print(t1f) for t1f in t1_ft]    \n",
    "\n",
    "print(\"\")\n",
    "print(f\"filetype of collection for return_type='filename': {type(t1_ft)}\")\n",
    "print(f\"filetype of item: {type(t1_ft[0])}\")"
   ]
  },
  {
   "cell_type": "markdown",
   "metadata": {},
   "source": [
    "#### get file objects for one subject, session & suffix"
   ]
  },
  {
   "cell_type": "code",
   "execution_count": 330,
   "metadata": {},
   "outputs": [
    {
     "data": {
      "text/plain": [
       "[<BIDSJSONFile filename='/Volumes/Main/Working/IntendedFor/data/sub-219/ses-itbs/anat/sub-219_ses-itbs_T1w.json'>,\n",
       " <BIDSImageFile filename='/Volumes/Main/Working/IntendedFor/data/sub-219/ses-itbs/anat/sub-219_ses-itbs_T1w.nii.gz'>]"
      ]
     },
     "execution_count": 330,
     "metadata": {},
     "output_type": "execute_result"
    }
   ],
   "source": [
    "# Return T1w file names for one subject and session only:\n",
    "layout.get(subject='219', session='itbs', suffix='T1w')"
   ]
  },
  {
   "cell_type": "markdown",
   "metadata": {},
   "source": [
    "#### get file objects for one subject, extension & suffix: return relative paths"
   ]
  },
  {
   "cell_type": "code",
   "execution_count": 327,
   "metadata": {
    "tags": []
   },
   "outputs": [
    {
     "name": "stdout",
     "output_type": "stream",
     "text": [
      "Relative paths for all sub-078 fmri image files:\n",
      "\n",
      "sub-078/func/sub-078_task-russian_run-01_bold.nii.gz\n",
      "sub-078/func/sub-078_task-russian_run-02_bold.nii.gz\n",
      "sub-078/func/sub-078_task-russian_run-03_bold.nii.gz\n",
      "sub-078/func/sub-078_task-russian_run-04_bold.nii.gz\n",
      "sub-078/func/sub-078_task-wb2_run-01_bold.nii.gz\n",
      "sub-078/func/sub-078_task-wb2_run-02_bold.nii.gz\n",
      "sub-078/func/sub-078_task-wb2_run-03_bold.nii.gz\n",
      "\n",
      "type of the collection: <class 'list'>\n",
      "type of items in collection: <class 'bids.layout.models.BIDSImageFile'>\n",
      "type of item containing the relative path is: <class 'str'>\n"
     ]
    }
   ],
   "source": [
    "# Return relative paths for all BOLD image files (*.nii.gz) for a single subject:\n",
    "\n",
    "print(\"Relative paths for all sub-078 fmri image files:\")\n",
    "print(\"\")    \n",
    "\n",
    "# Here's where the work happens:\n",
    "fmri_078=layout.get(subject='078', extension='nii.gz', suffix='bold')\n",
    "\n",
    "# Here we extract the relative path for each one\n",
    "# for fmri in fmri_078:\n",
    "#    print(fmri.relpath)\n",
    "    \n",
    "[ print(fmri.relpath) for fmri in fmri_078 ]    \n",
    "\n",
    "print(\"\")        \n",
    "print(f\"type of the collection: {type(fmri_078)}\") \n",
    "print(f\"type of items in collection: {type(fmri_078[0])}\")   \n",
    "print(f\"type of item containing the relative path is: {type(f.relpath)}\")      \n"
   ]
  },
  {
   "cell_type": "markdown",
   "metadata": {},
   "source": [
    "#### get filename string for first file [0]"
   ]
  },
  {
   "cell_type": "code",
   "execution_count": 270,
   "metadata": {},
   "outputs": [
    {
     "name": "stdout",
     "output_type": "stream",
     "text": [
      "Retrieve the filename of the first fmri image for sub-078:\n",
      "sub-078_task-russian_run-01_bold.nii.gz\n"
     ]
    }
   ],
   "source": [
    "fmri_078_file1=layout.get(subject='078', extension='nii.gz', suffix='bold')[0].filename\n",
    "print(f\"Retrieve the filename of the first fmri image for sub-078:\\n{fmri_078_file1}\") "
   ]
  },
  {
   "cell_type": "markdown",
   "metadata": {},
   "source": [
    "#### get all phasediff JSON file relative paths"
   ]
  },
  {
   "cell_type": "code",
   "execution_count": 328,
   "metadata": {
    "tags": []
   },
   "outputs": [
    {
     "name": "stdout",
     "output_type": "stream",
     "text": [
      "Return all phasediff JSON files as relative paths:\n",
      "\n",
      "sub-078/fmap/sub-078_phasediff.json\n",
      "sub-188/fmap/sub-188_phasediff.json\n",
      "sub-219/ses-ctbs/fmap/sub-219_ses-ctbs_phasediff.json\n",
      "sub-219/ses-itbs/fmap/sub-219_ses-itbs_phasediff.json\n",
      "\n",
      "==================================\n",
      "extract the 2nd indexed file:\n",
      "<BIDSJSONFile filename='/Volumes/Main/Working/IntendedFor/data/sub-188/fmap/sub-188_phasediff.json'>\n",
      "\n",
      "==================================\n",
      "pd_json_file is of type:\n",
      " <class 'list'>\n",
      "first pd_json_file is of type:\n",
      " <class 'bids.layout.models.BIDSJSONFile'>\n"
     ]
    }
   ],
   "source": [
    "# Return all phasediff JSON files\n",
    "print(\"Return all phasediff JSON files as relative paths:\")\n",
    "print(\"\")\n",
    "\n",
    "# Here's where the work happens\n",
    "pd_json_files=layout.get(target='subject', suffix='phasediff', extension='json')\n",
    "\n",
    "# To print the relative path, you need a for-loop that gets each item in the list\n",
    "# for pd_json_file in pd_json_files:\n",
    "#    print(pd_json_file.relpath)\n",
    "    \n",
    "[print(pd_json_file.relpath) for pd_json_file in pd_json_files ]    \n",
    "\n",
    "print(\"\")    \n",
    "print(\"==================================\")\n",
    "# These items can also be extracted by their indices:\n",
    "print(\"extract the 2nd indexed file:\")\n",
    "pdj=pd_json_files[1]\n",
    "print(pdj)\n",
    "\n",
    "print(\"\")\n",
    "print(\"==================================\")\n",
    "print(f\"pd_json_file is of type:\\n {type(pd_json_files)}\")\n",
    "print(f\"first pd_json_file is of type:\\n {type(pdj)}\")"
   ]
  },
  {
   "cell_type": "markdown",
   "metadata": {},
   "source": [
    "#### get path for the IntendedFor field for each filename"
   ]
  },
  {
   "cell_type": "code",
   "execution_count": 283,
   "metadata": {
    "tags": []
   },
   "outputs": [
    {
     "name": "stdout",
     "output_type": "stream",
     "text": [
      "Return the datatype (hence directory label) and filename for all phasediff JSON files:\n",
      "\n",
      "fmap/sub-078_phasediff.json\n",
      "fmap/sub-188_phasediff.json\n",
      "fmap/sub-219_ses-ctbs_phasediff.json\n",
      "fmap/sub-219_ses-itbs_phasediff.json\n"
     ]
    }
   ],
   "source": [
    "# Generate the path for the IntendedFor field for each filename\n",
    "print(\"Return the datatype (hence directory label) and filename for all phasediff JSON files:\")\n",
    "print(\"\")\n",
    "for j_file in pd_json_files:\n",
    "    print(f\"{j_file.entities['datatype']}/{j_file.filename}\")"
   ]
  },
  {
   "cell_type": "markdown",
   "metadata": {},
   "source": [
    "### Other `return_type` values: `id` and `dir`\n",
    "\n",
    "- `get()` can return unique values (or ids) of particular entities. For example, say we want to know which subjects have at least one `tse` file. \n",
    "- We can request that information by setting `return_type='id'`. \n",
    "- When using this option, we also need to specify a target entity (or metadata keyword) called `target`. \n",
    "- This combination tells the `BIDSLayout` to return the unique values for the specified `target` entity. \n",
    "- For example, in the next example, we ask for all of the unique subject IDs that have at least one file with a `tse` suffix:"
   ]
  },
  {
   "cell_type": "markdown",
   "metadata": {},
   "source": [
    "#### get ids for target subjects with at least one tse image (turbo-spin-echo)"
   ]
  },
  {
   "cell_type": "code",
   "execution_count": 285,
   "metadata": {},
   "outputs": [
    {
     "data": {
      "text/plain": [
       "['219']"
      ]
     },
     "execution_count": 285,
     "metadata": {},
     "output_type": "execute_result"
    }
   ],
   "source": [
    "# Return ids of for target subjects with at least one tse file\n",
    "layout.get(return_type='id', target='subject', acquisition=\"tse\")"
   ]
  },
  {
   "cell_type": "markdown",
   "metadata": {},
   "source": [
    "#### get ids of for target **subjects** with at least one nad1 task file"
   ]
  },
  {
   "cell_type": "code",
   "execution_count": 286,
   "metadata": {},
   "outputs": [
    {
     "data": {
      "text/plain": [
       "['188']"
      ]
     },
     "execution_count": 286,
     "metadata": {},
     "output_type": "execute_result"
    }
   ],
   "source": [
    "# Return ids of subjects with at least one task=nad1\n",
    "layout.get(return_type='id', target='subject', task=\"nad1\")"
   ]
  },
  {
   "cell_type": "markdown",
   "metadata": {},
   "source": [
    "#### get ids of for target **sessions** with at least one tse image"
   ]
  },
  {
   "cell_type": "code",
   "execution_count": 218,
   "metadata": {},
   "outputs": [
    {
     "data": {
      "text/plain": [
       "['ctbs', 'itbs']"
      ]
     },
     "execution_count": 218,
     "metadata": {},
     "output_type": "execute_result"
    }
   ],
   "source": [
    "# Return ids of for target sessions with at least one tse image\n",
    "layout.get(return_type='id', target='session', acquisition=\"tse\")"
   ]
  },
  {
   "cell_type": "markdown",
   "metadata": {},
   "source": [
    "#### get dirs for subject (not if there are sessions!)\n",
    "\n",
    "If our `target` is a BIDS entity that corresponds to a particular directory in the BIDS spec (e.g., `subject` or `session`) we can also use `return_type='dir'` to get all matching subdirectories:"
   ]
  },
  {
   "cell_type": "code",
   "execution_count": 222,
   "metadata": {
    "ExecuteTime": {
     "end_time": "2018-08-01T20:05:23.983125Z",
     "start_time": "2018-08-01T20:05:23.975085Z"
    }
   },
   "outputs": [
    {
     "data": {
      "text/plain": [
       "['/Volumes/Main/Working/IntendedFor/data/sub-078',\n",
       " '/Volumes/Main/Working/IntendedFor/data/sub-188']"
      ]
     },
     "execution_count": 222,
     "metadata": {},
     "output_type": "execute_result"
    }
   ],
   "source": [
    "# Return all subject directories (though apparently not those with sessions): This is a list of strings. \n",
    "out_dir=layout.get(return_type='dir', target='subject')\n",
    "# It is not allowed to set multiple targets\n",
    "# out_ft=layout.get(return_type='dir', target=['subject','session'])\n",
    "\n",
    "print(out_dir)\n",
    "print(f\"filetype of collection for return_type='filename'; {type(out_dir)}\")\n",
    "print(f\"filetype of item; {type(out_dir[0])}\")"
   ]
  },
  {
   "cell_type": "markdown",
   "metadata": {},
   "source": [
    "#### get session dirs if they exist "
   ]
  },
  {
   "cell_type": "code",
   "execution_count": 289,
   "metadata": {},
   "outputs": [
    {
     "name": "stdout",
     "output_type": "stream",
     "text": [
      "['/Volumes/Main/Working/IntendedFor/data/sub-219/ses-ctbs', '/Volumes/Main/Working/IntendedFor/data/sub-219/ses-itbs']\n",
      "\n",
      "filetype of collection for return_type='filename'; <class 'list'>\n",
      "filetype of item; <class 'str'>\n"
     ]
    }
   ],
   "source": [
    "out_ses_dir=layout.get(return_type='dir', target='session')\n",
    "print(out_ses_dir)\n",
    "print(\"\")\n",
    "print(f\"filetype of collection for return_type='filename'; {type(out_ses_dir)}\")\n",
    "print(f\"filetype of item; {type(out_ses_dir[0])}\")"
   ]
  },
  {
   "cell_type": "markdown",
   "metadata": {},
   "source": [
    "## BIDSLayout Queries for JSON MetaData\n",
    "\n",
    "### print content of a json file"
   ]
  },
  {
   "cell_type": "code",
   "execution_count": 290,
   "metadata": {
    "tags": []
   },
   "outputs": [
    {
     "name": "stdout",
     "output_type": "stream",
     "text": [
      "Return contents of the individual JSON file extracted above as a dictionary:\n",
      "\n",
      "{\n",
      "  \"AcquisitionMatrixPE\": 68,\n",
      "  \"AcquisitionNumber\": 1,\n",
      "  \"AcquisitionTime\": \"14:35:26.635000\",\n",
      "  \"BaseResolution\": 68,\n",
      "  \"BodyPartExamined\": \"BRAIN\",\n",
      "  \"ConsistencyInfo\": \"N4_VD13A_LATEST_20120616\",\n",
      "  \"ConversionSoftware\": \"dcm2niix\",\n",
      "  \"ConversionSoftwareVersion\": \"v1.0.20190410  GCC6.3.0\",\n",
      "  \"DeviceSerialNumber\": \"45424\",\n",
      "  \"DwellTime\": 2.53e-05,\n",
      "  \"EchoNumber\": 2,\n",
      "  \"EchoTime\": 0.00738,\n",
      "  \"EchoTime1\": 0.00492,\n",
      "  \"EchoTime2\": 0.00738,\n",
      "  \"FlipAngle\": 60,\n",
      "  \"ImageOrientationPatientDICOM\": [1, -2.04604e-10, -1.4307e-11, 2.05103e-10, 0.997564, 0.0697565],\n",
      "  \"ImageType\": [\n",
      "    \"ORIGINAL\",\n",
      "    \"PRIMARY\",\n",
      "    \"P\",\n",
      "    \"ND\"\n",
      "],\n",
      "  \"ImagingFrequency\": 123.232,\n",
      "  \"InPlanePhaseEncodingDirectionDICOM\": \"ROW\",\n",
      "  \"InstitutionAddress\": \"North_Warren_Ave_1609_Tucson_Denver_US_85719\",\n",
      "  \"InstitutionName\": \"University_of_Arizona\",\n",
      "  \"InstitutionalDepartmentName\": \"Department\",\n",
      "  \"IntendedFor\": [\n",
      "    \"func/sub-188_task-nad1_run-01_bold.nii.gz\",\n",
      "    \"func/sub-188_task-nad1_run-02_bold.nii.gz\",\n",
      "    \"func/sub-188_task-nad1_run-03_bold.nii.gz\",\n",
      "    \"func/sub-188_task-nad1_run-04_bold.nii.gz\"\n",
      " ],\n",
      "  \"MRAcquisitionType\": \"2D\",\n",
      "  \"MagneticFieldStrength\": 3,\n",
      "  \"Manufacturer\": \"Siemens\",\n",
      "  \"ManufacturersModelName\": \"Skyra\",\n",
      "  \"Modality\": \"MR\",\n",
      "  \"PartialFourier\": 1,\n",
      "  \"PatientPosition\": \"HFS\",\n",
      "  \"PercentPhaseFOV\": 100,\n",
      "  \"PhaseEncodingDirection\": \"i\",\n",
      "  \"PhaseEncodingSteps\": 68,\n",
      "  \"PhaseResolution\": 1,\n",
      "  \"PixelBandwidth\": 290,\n",
      "  \"ProcedureStepDescription\": \"Plante_Studies\",\n",
      "  \"ProtocolName\": \"gre_field_mapping\",\n",
      "  \"PulseSequenceDetails\": \"%SiemensSeq%_gre_field_mapping\",\n",
      "  \"ReceiveCoilActiveElements\": \"HEA;HEP\",\n",
      "  \"ReceiveCoilName\": \"Head_32\",\n",
      "  \"ReconMatrixPE\": 68,\n",
      "  \"RepetitionTime\": 0.434,\n",
      "  \"SAR\": 0.176463,\n",
      "  \"ScanningSequence\": \"GR\",\n",
      "  \"SequenceName\": \"_fm2d2r\",\n",
      "  \"SequenceVariant\": \"SP\",\n",
      "  \"SeriesDescription\": \"gre_field_mapping\",\n",
      "  \"SeriesNumber\": 3,\n",
      "  \"ShimSetting\": [8347, -13382, 14854, 623, 429, -226, 274, -378],\n",
      "  \"SliceThickness\": 3,\n",
      "  \"SoftwareVersions\": \"syngo_MR_D13\",\n",
      "  \"SpacingBetweenSlices\": 3.75,\n",
      "  \"StationName\": \"AWP45424\",\n",
      "  \"TxRefAmp\": 323.197}\n"
     ]
    }
   ],
   "source": [
    "print(\"Return contents of the individual JSON file extracted above as a dictionary:\")\n",
    "print(\"\")\n",
    "# Use print to honor the newlines in the text\n",
    "print(pdj.get_json())"
   ]
  },
  {
   "cell_type": "markdown",
   "metadata": {},
   "source": [
    "#### get all files for a subject where SliceThickness (a metadata key) = 3"
   ]
  },
  {
   "cell_type": "code",
   "execution_count": 291,
   "metadata": {
    "tags": []
   },
   "outputs": [
    {
     "data": {
      "text/plain": [
       "[<BIDSImageFile filename='/Volumes/Main/Working/IntendedFor/data/sub-219/ses-ctbs/anat/sub-219_ses-ctbs_acq-tse_T2w1.nii.gz'>,\n",
       " <BIDSImageFile filename='/Volumes/Main/Working/IntendedFor/data/sub-219/ses-ctbs/anat/sub-219_ses-ctbs_acq-tse_T2w2.nii.gz'>,\n",
       " <BIDSImageFile filename='/Volumes/Main/Working/IntendedFor/data/sub-219/ses-ctbs/fmap/sub-219_ses-ctbs_magnitude1.nii.gz'>,\n",
       " <BIDSImageFile filename='/Volumes/Main/Working/IntendedFor/data/sub-219/ses-ctbs/fmap/sub-219_ses-ctbs_magnitude2.nii.gz'>,\n",
       " <BIDSImageFile filename='/Volumes/Main/Working/IntendedFor/data/sub-219/ses-ctbs/fmap/sub-219_ses-ctbs_phasediff.nii.gz'>,\n",
       " <BIDSImageFile filename='/Volumes/Main/Working/IntendedFor/data/sub-219/ses-ctbs/func/sub-219_ses-ctbs_acq-asl_run-01.nii.gz'>,\n",
       " <BIDSImageFile filename='/Volumes/Main/Working/IntendedFor/data/sub-219/ses-ctbs/func/sub-219_ses-ctbs_acq-asl_run-02.nii.gz'>,\n",
       " <BIDSImageFile filename='/Volumes/Main/Working/IntendedFor/data/sub-219/ses-itbs/anat/sub-219_ses-itbs_acq-tse_T2w1.nii.gz'>,\n",
       " <BIDSImageFile filename='/Volumes/Main/Working/IntendedFor/data/sub-219/ses-itbs/anat/sub-219_ses-itbs_acq-tse_T2w2.nii.gz'>,\n",
       " <BIDSImageFile filename='/Volumes/Main/Working/IntendedFor/data/sub-219/ses-itbs/fmap/sub-219_ses-itbs_magnitude1.nii.gz'>,\n",
       " <BIDSImageFile filename='/Volumes/Main/Working/IntendedFor/data/sub-219/ses-itbs/fmap/sub-219_ses-itbs_magnitude2.nii.gz'>,\n",
       " <BIDSImageFile filename='/Volumes/Main/Working/IntendedFor/data/sub-219/ses-itbs/fmap/sub-219_ses-itbs_phasediff.nii.gz'>,\n",
       " <BIDSImageFile filename='/Volumes/Main/Working/IntendedFor/data/sub-219/ses-itbs/func/sub-219_ses-itbs_acq-asl_run-01.nii.gz'>,\n",
       " <BIDSImageFile filename='/Volumes/Main/Working/IntendedFor/data/sub-219/ses-itbs/func/sub-219_ses-itbs_acq-asl_run-02.nii.gz'>]"
      ]
     },
     "execution_count": 291,
     "metadata": {},
     "output_type": "execute_result"
    }
   ],
   "source": [
    "# Retrieve all files for subject 219 where SliceThickness (a metadata key) = 3\n",
    "layout.get(subject=['219'], SliceThickness=3)"
   ]
  },
  {
   "cell_type": "markdown",
   "metadata": {},
   "source": [
    "#### get image file names where TR=6 and the acquisition=tse "
   ]
  },
  {
   "cell_type": "code",
   "execution_count": 292,
   "metadata": {
    "tags": []
   },
   "outputs": [
    {
     "data": {
      "text/plain": [
       "[<BIDSImageFile filename='/Volumes/Main/Working/IntendedFor/data/sub-219/ses-ctbs/anat/sub-219_ses-ctbs_acq-tse_T2w1.nii.gz'>,\n",
       " <BIDSImageFile filename='/Volumes/Main/Working/IntendedFor/data/sub-219/ses-ctbs/anat/sub-219_ses-ctbs_acq-tse_T2w2.nii.gz'>,\n",
       " <BIDSImageFile filename='/Volumes/Main/Working/IntendedFor/data/sub-219/ses-itbs/anat/sub-219_ses-itbs_acq-tse_T2w1.nii.gz'>,\n",
       " <BIDSImageFile filename='/Volumes/Main/Working/IntendedFor/data/sub-219/ses-itbs/anat/sub-219_ses-itbs_acq-tse_T2w2.nii.gz'>]"
      ]
     },
     "execution_count": 292,
     "metadata": {},
     "output_type": "execute_result"
    }
   ],
   "source": [
    "# Retrieve image file names for which TR=6 and the acquisition is tse (turbo-spin-echo) \n",
    "layout.get(RepetitionTime=6, acquisition=\"tse\")"
   ]
  },
  {
   "cell_type": "markdown",
   "metadata": {},
   "source": [
    "#### get image file names where TR=2.6 & suffix=bold\n",
    "You can always **pass in a list rather than a string** (illustrated for subject).  \n",
    "This will be interpreted as a logical disjunction (i.e., a file must match any one of the provided values).   "
   ]
  },
  {
   "cell_type": "code",
   "execution_count": 152,
   "metadata": {
    "tags": []
   },
   "outputs": [
    {
     "data": {
      "text/plain": [
       "[<BIDSImageFile filename='/Volumes/Main/Working/IntendedFor/data/sub-078/func/sub-078_task-wb2_run-01_bold.nii.gz'>,\n",
       " <BIDSImageFile filename='/Volumes/Main/Working/IntendedFor/data/sub-078/func/sub-078_task-wb2_run-02_bold.nii.gz'>,\n",
       " <BIDSImageFile filename='/Volumes/Main/Working/IntendedFor/data/sub-078/func/sub-078_task-wb2_run-03_bold.nii.gz'>,\n",
       " <BIDSImageFile filename='/Volumes/Main/Working/IntendedFor/data/sub-188/func/sub-188_task-nad1_run-01_bold.nii.gz'>,\n",
       " <BIDSImageFile filename='/Volumes/Main/Working/IntendedFor/data/sub-188/func/sub-188_task-nad1_run-02_bold.nii.gz'>,\n",
       " <BIDSImageFile filename='/Volumes/Main/Working/IntendedFor/data/sub-188/func/sub-188_task-nad1_run-03_bold.nii.gz'>,\n",
       " <BIDSImageFile filename='/Volumes/Main/Working/IntendedFor/data/sub-188/func/sub-188_task-nad1_run-04_bold.nii.gz'>]"
      ]
     },
     "execution_count": 152,
     "metadata": {},
     "output_type": "execute_result"
    }
   ],
   "source": [
    "layout.get(subject=['078', '188', '219'], RepetitionTime=2.6, suffix=\"bold\")"
   ]
  },
  {
   "cell_type": "markdown",
   "metadata": {},
   "source": [
    "## The `BIDSFile`\n",
    "Here are some of the attributes and methods available to us in a `BIDSFile` (note that some of these are only available for certain subclasses of `BIDSFile`; e.g., you can't call `get_image()` on a `BIDSFile` that doesn't correspond to an image file!):\n",
    "* `.path`: The full path of the associated file\n",
    "* `.filename`: The associated file's filename (without directory)\n",
    "* `.dirname`: The directory containing the file\n",
    "* `.get_entities()`: Returns information about entities associated with this `BIDSFile` (optionally including metadata)\n",
    "* `.get_image()`: Returns the file contents as a nibabel image (only works for image files)\n",
    "* `.get_df()`: Get file contents as a pandas DataFrame (only works for TSV files)\n",
    "* `.get_metadata()`: Returns a dictionary of all metadata found in associated JSON files\n",
    "* `.get_associations()`: Returns a list of all files associated with this one in some way\n",
    "\n",
    "Let's see some of these in action."
   ]
  },
  {
   "cell_type": "code",
   "execution_count": 315,
   "metadata": {
    "ExecuteTime": {
     "end_time": "2018-08-01T20:05:23.926278Z",
     "start_time": "2018-08-01T20:05:23.741189Z"
    }
   },
   "outputs": [
    {
     "name": "stdout",
     "output_type": "stream",
     "text": [
      "<BIDSImageFile filename='/Volumes/Main/Working/IntendedFor/data/sub-188/fmap/sub-188_phasediff.nii.gz'>\n"
     ]
    }
   ],
   "source": [
    "# Pick the 15th file in the dataset\n",
    "bf = layout.get()[55]\n",
    "\n",
    "# Print it\n",
    "print(bf)\n"
   ]
  },
  {
   "cell_type": "markdown",
   "metadata": {},
   "source": [
    "#### Print entities for a file"
   ]
  },
  {
   "cell_type": "code",
   "execution_count": 316,
   "metadata": {
    "scrolled": true,
    "tags": []
   },
   "outputs": [
    {
     "name": "stdout",
     "output_type": "stream",
     "text": [
      "{'datatype': 'fmap', 'extension': '.nii.gz', 'fmap': 'phasediff', 'subject': '188', 'suffix': 'phasediff'}\n"
     ]
    }
   ],
   "source": [
    "# Print all the entities associated with this file, and their values\n",
    "print(bf.get_entities())"
   ]
  },
  {
   "cell_type": "markdown",
   "metadata": {},
   "source": [
    "#### Print metadata for the file"
   ]
  },
  {
   "cell_type": "code",
   "execution_count": 317,
   "metadata": {
    "scrolled": true
   },
   "outputs": [
    {
     "data": {
      "text/plain": [
       "{'AcquisitionMatrixPE': 68,\n",
       " 'AcquisitionNumber': 1,\n",
       " 'AcquisitionTime': '14:35:26.635000',\n",
       " 'BaseResolution': 68,\n",
       " 'BodyPartExamined': 'BRAIN',\n",
       " 'ConsistencyInfo': 'N4_VD13A_LATEST_20120616',\n",
       " 'ConversionSoftware': 'dcm2niix',\n",
       " 'ConversionSoftwareVersion': 'v1.0.20190410  GCC6.3.0',\n",
       " 'DeviceSerialNumber': '45424',\n",
       " 'DwellTime': 2.53e-05,\n",
       " 'EchoNumber': 2,\n",
       " 'EchoTime': 0.00738,\n",
       " 'EchoTime1': 0.00492,\n",
       " 'EchoTime2': 0.00738,\n",
       " 'FlipAngle': 60,\n",
       " 'ImageOrientationPatientDICOM': [1,\n",
       "  -2.04604e-10,\n",
       "  -1.4307e-11,\n",
       "  2.05103e-10,\n",
       "  0.997564,\n",
       "  0.0697565],\n",
       " 'ImageType': ['ORIGINAL', 'PRIMARY', 'P', 'ND'],\n",
       " 'ImagingFrequency': 123.232,\n",
       " 'InPlanePhaseEncodingDirectionDICOM': 'ROW',\n",
       " 'InstitutionAddress': 'North_Warren_Ave_1609_Tucson_Denver_US_85719',\n",
       " 'InstitutionName': 'University_of_Arizona',\n",
       " 'InstitutionalDepartmentName': 'Department',\n",
       " 'IntendedFor': ['func/sub-188_task-nad1_run-01_bold.nii.gz',\n",
       "  'func/sub-188_task-nad1_run-02_bold.nii.gz',\n",
       "  'func/sub-188_task-nad1_run-03_bold.nii.gz',\n",
       "  'func/sub-188_task-nad1_run-04_bold.nii.gz'],\n",
       " 'MRAcquisitionType': '2D',\n",
       " 'MagneticFieldStrength': 3,\n",
       " 'Manufacturer': 'Siemens',\n",
       " 'ManufacturersModelName': 'Skyra',\n",
       " 'Modality': 'MR',\n",
       " 'PartialFourier': 1,\n",
       " 'PatientPosition': 'HFS',\n",
       " 'PercentPhaseFOV': 100,\n",
       " 'PhaseEncodingDirection': 'i',\n",
       " 'PhaseEncodingSteps': 68,\n",
       " 'PhaseResolution': 1,\n",
       " 'PixelBandwidth': 290,\n",
       " 'ProcedureStepDescription': 'Plante_Studies',\n",
       " 'ProtocolName': 'gre_field_mapping',\n",
       " 'PulseSequenceDetails': '%SiemensSeq%_gre_field_mapping',\n",
       " 'ReceiveCoilActiveElements': 'HEA;HEP',\n",
       " 'ReceiveCoilName': 'Head_32',\n",
       " 'ReconMatrixPE': 68,\n",
       " 'RepetitionTime': 0.434,\n",
       " 'SAR': 0.176463,\n",
       " 'ScanningSequence': 'GR',\n",
       " 'SequenceName': '_fm2d2r',\n",
       " 'SequenceVariant': 'SP',\n",
       " 'SeriesDescription': 'gre_field_mapping',\n",
       " 'SeriesNumber': 3,\n",
       " 'ShimSetting': [8347, -13382, 14854, 623, 429, -226, 274, -378],\n",
       " 'SliceThickness': 3,\n",
       " 'SoftwareVersions': 'syngo_MR_D13',\n",
       " 'SpacingBetweenSlices': 3.75,\n",
       " 'StationName': 'AWP45424',\n",
       " 'TxRefAmp': 323.197}"
      ]
     },
     "execution_count": 317,
     "metadata": {},
     "output_type": "execute_result"
    }
   ],
   "source": [
    "# Print all the JSON sidecar metadata associated with this image file \n",
    "# If you try this with a JSON file instead of an image file, it returns an empty dictionary\n",
    "bf.get_metadata()"
   ]
  },
  {
   "cell_type": "markdown",
   "metadata": {},
   "source": [
    "#### Print union of metadata and entities"
   ]
  },
  {
   "cell_type": "code",
   "execution_count": 318,
   "metadata": {},
   "outputs": [
    {
     "data": {
      "text/plain": [
       "{'AcquisitionMatrixPE': 68,\n",
       " 'AcquisitionNumber': 1,\n",
       " 'AcquisitionTime': '14:35:26.635000',\n",
       " 'BaseResolution': 68,\n",
       " 'BodyPartExamined': 'BRAIN',\n",
       " 'ConsistencyInfo': 'N4_VD13A_LATEST_20120616',\n",
       " 'ConversionSoftware': 'dcm2niix',\n",
       " 'ConversionSoftwareVersion': 'v1.0.20190410  GCC6.3.0',\n",
       " 'DeviceSerialNumber': '45424',\n",
       " 'DwellTime': 2.53e-05,\n",
       " 'EchoNumber': 2,\n",
       " 'EchoTime': 0.00738,\n",
       " 'EchoTime1': 0.00492,\n",
       " 'EchoTime2': 0.00738,\n",
       " 'FlipAngle': 60,\n",
       " 'ImageOrientationPatientDICOM': [1,\n",
       "  -2.04604e-10,\n",
       "  -1.4307e-11,\n",
       "  2.05103e-10,\n",
       "  0.997564,\n",
       "  0.0697565],\n",
       " 'ImageType': ['ORIGINAL', 'PRIMARY', 'P', 'ND'],\n",
       " 'ImagingFrequency': 123.232,\n",
       " 'InPlanePhaseEncodingDirectionDICOM': 'ROW',\n",
       " 'InstitutionAddress': 'North_Warren_Ave_1609_Tucson_Denver_US_85719',\n",
       " 'InstitutionName': 'University_of_Arizona',\n",
       " 'InstitutionalDepartmentName': 'Department',\n",
       " 'IntendedFor': ['func/sub-188_task-nad1_run-01_bold.nii.gz',\n",
       "  'func/sub-188_task-nad1_run-02_bold.nii.gz',\n",
       "  'func/sub-188_task-nad1_run-03_bold.nii.gz',\n",
       "  'func/sub-188_task-nad1_run-04_bold.nii.gz'],\n",
       " 'MRAcquisitionType': '2D',\n",
       " 'MagneticFieldStrength': 3,\n",
       " 'Manufacturer': 'Siemens',\n",
       " 'ManufacturersModelName': 'Skyra',\n",
       " 'Modality': 'MR',\n",
       " 'PartialFourier': 1,\n",
       " 'PatientPosition': 'HFS',\n",
       " 'PercentPhaseFOV': 100,\n",
       " 'PhaseEncodingDirection': 'i',\n",
       " 'PhaseEncodingSteps': 68,\n",
       " 'PhaseResolution': 1,\n",
       " 'PixelBandwidth': 290,\n",
       " 'ProcedureStepDescription': 'Plante_Studies',\n",
       " 'ProtocolName': 'gre_field_mapping',\n",
       " 'PulseSequenceDetails': '%SiemensSeq%_gre_field_mapping',\n",
       " 'ReceiveCoilActiveElements': 'HEA;HEP',\n",
       " 'ReceiveCoilName': 'Head_32',\n",
       " 'ReconMatrixPE': 68,\n",
       " 'RepetitionTime': 0.434,\n",
       " 'SAR': 0.176463,\n",
       " 'ScanningSequence': 'GR',\n",
       " 'SequenceName': '_fm2d2r',\n",
       " 'SequenceVariant': 'SP',\n",
       " 'SeriesDescription': 'gre_field_mapping',\n",
       " 'SeriesNumber': 3,\n",
       " 'ShimSetting': [8347, -13382, 14854, 623, 429, -226, 274, -378],\n",
       " 'SliceThickness': 3,\n",
       " 'SoftwareVersions': 'syngo_MR_D13',\n",
       " 'SpacingBetweenSlices': 3.75,\n",
       " 'StationName': 'AWP45424',\n",
       " 'TxRefAmp': 323.197,\n",
       " 'datatype': 'fmap',\n",
       " 'extension': '.nii.gz',\n",
       " 'fmap': 'phasediff',\n",
       " 'subject': '188',\n",
       " 'suffix': 'phasediff'}"
      ]
     },
     "execution_count": 318,
     "metadata": {},
     "output_type": "execute_result"
    }
   ],
   "source": [
    "# We can print the union of both of the above in one shot like this\n",
    "bf.get_entities(metadata='all')"
   ]
  },
  {
   "cell_type": "markdown",
   "metadata": {},
   "source": [
    "#### Get associated files\n",
    "\n",
    "Here are all the files associated with our target file in some way. Notice how we get back both the JSON sidecar for our target file, and the BOLD runs that it is intended for SDC (susceptibility distortion correction)"
   ]
  },
  {
   "cell_type": "code",
   "execution_count": 321,
   "metadata": {
    "scrolled": true
   },
   "outputs": [
    {
     "data": {
      "text/plain": [
       "[<BIDSJSONFile filename='/Volumes/Main/Working/IntendedFor/data/sub-188/fmap/sub-188_phasediff.json'>,\n",
       " <BIDSImageFile filename='/Volumes/Main/Working/IntendedFor/data/sub-188/func/sub-188_task-nad1_run-01_bold.nii.gz'>,\n",
       " <BIDSImageFile filename='/Volumes/Main/Working/IntendedFor/data/sub-188/func/sub-188_task-nad1_run-02_bold.nii.gz'>,\n",
       " <BIDSImageFile filename='/Volumes/Main/Working/IntendedFor/data/sub-188/func/sub-188_task-nad1_run-03_bold.nii.gz'>,\n",
       " <BIDSImageFile filename='/Volumes/Main/Working/IntendedFor/data/sub-188/func/sub-188_task-nad1_run-04_bold.nii.gz'>]"
      ]
     },
     "execution_count": 321,
     "metadata": {},
     "output_type": "execute_result"
    }
   ],
   "source": [
    "bf.get_associations()"
   ]
  },
  {
   "cell_type": "markdown",
   "metadata": {
    "slideshow": {
     "slide_type": "slide"
    }
   },
   "source": [
    "## Use Synthetic Dataset to create dataframe\n",
    "\n",
    "In cases where a file has a `.tsv.gz` or `.tsv` extension, it will automatically be created as a `BIDSDataFile`, and we can easily grab the contents as a pandas `DataFrame`:"
   ]
  },
  {
   "cell_type": "code",
   "execution_count": 323,
   "metadata": {},
   "outputs": [
    {
     "data": {
      "text/html": [
       "<div>\n",
       "<style scoped>\n",
       "    .dataframe tbody tr th:only-of-type {\n",
       "        vertical-align: middle;\n",
       "    }\n",
       "\n",
       "    .dataframe tbody tr th {\n",
       "        vertical-align: top;\n",
       "    }\n",
       "\n",
       "    .dataframe thead th {\n",
       "        text-align: right;\n",
       "    }\n",
       "</style>\n",
       "<table border=\"1\" class=\"dataframe\">\n",
       "  <thead>\n",
       "    <tr style=\"text-align: right;\">\n",
       "      <th></th>\n",
       "      <th>onset</th>\n",
       "      <th>respiratory</th>\n",
       "      <th>cardiac</th>\n",
       "    </tr>\n",
       "  </thead>\n",
       "  <tbody>\n",
       "    <tr>\n",
       "      <th>0</th>\n",
       "      <td>0.0</td>\n",
       "      <td>-0.714844</td>\n",
       "      <td>-0.262109</td>\n",
       "    </tr>\n",
       "    <tr>\n",
       "      <th>1</th>\n",
       "      <td>0.1</td>\n",
       "      <td>-0.757342</td>\n",
       "      <td>0.048933</td>\n",
       "    </tr>\n",
       "    <tr>\n",
       "      <th>2</th>\n",
       "      <td>0.2</td>\n",
       "      <td>-0.796851</td>\n",
       "      <td>0.355185</td>\n",
       "    </tr>\n",
       "    <tr>\n",
       "      <th>3</th>\n",
       "      <td>0.3</td>\n",
       "      <td>-0.833215</td>\n",
       "      <td>0.626669</td>\n",
       "    </tr>\n",
       "    <tr>\n",
       "      <th>4</th>\n",
       "      <td>0.4</td>\n",
       "      <td>-0.866291</td>\n",
       "      <td>0.836810</td>\n",
       "    </tr>\n",
       "  </tbody>\n",
       "</table>\n",
       "</div>"
      ],
      "text/plain": [
       "   onset  respiratory   cardiac\n",
       "0    0.0    -0.714844 -0.262109\n",
       "1    0.1    -0.757342  0.048933\n",
       "2    0.2    -0.796851  0.355185\n",
       "3    0.3    -0.833215  0.626669\n",
       "4    0.4    -0.866291  0.836810"
      ]
     },
     "execution_count": 323,
     "metadata": {},
     "output_type": "execute_result"
    }
   ],
   "source": [
    "# Use a different test dataset--one that contains physio recording files\n",
    "data_path = os.path.join(get_test_data_path(), 'synthetic')\n",
    "layout2 = BIDSLayout(data_path)\n",
    "\n",
    "# Get the first physiological recording file\n",
    "recfile = layout2.get(suffix='physio')[0]\n",
    "\n",
    "# Get contents as a DataFrame and show the first few rows\n",
    "df = recfile.get_df()\n",
    "df.head()"
   ]
  },
  {
   "cell_type": "markdown",
   "metadata": {},
   "source": [
    "While it would have been easy enough to read the contents of the file ourselves with pandas' `read_csv()` method, notice that in the above example, `get_df()` saved us the trouble of having to read the physiological recording file's metadata, pull out the column names and sampling rate, and add timing information.\n",
    "\n",
    "Mind you, if we don't *want* the timing information, we can ignore it:"
   ]
  },
  {
   "cell_type": "code",
   "execution_count": 15,
   "metadata": {},
   "outputs": [
    {
     "data": {
      "text/html": [
       "<div>\n",
       "<style scoped>\n",
       "    .dataframe tbody tr th:only-of-type {\n",
       "        vertical-align: middle;\n",
       "    }\n",
       "\n",
       "    .dataframe tbody tr th {\n",
       "        vertical-align: top;\n",
       "    }\n",
       "\n",
       "    .dataframe thead th {\n",
       "        text-align: right;\n",
       "    }\n",
       "</style>\n",
       "<table border=\"1\" class=\"dataframe\">\n",
       "  <thead>\n",
       "    <tr style=\"text-align: right;\">\n",
       "      <th></th>\n",
       "      <th>respiratory</th>\n",
       "      <th>cardiac</th>\n",
       "    </tr>\n",
       "  </thead>\n",
       "  <tbody>\n",
       "    <tr>\n",
       "      <th>0</th>\n",
       "      <td>-0.757342</td>\n",
       "      <td>0.048933</td>\n",
       "    </tr>\n",
       "    <tr>\n",
       "      <th>1</th>\n",
       "      <td>-0.796851</td>\n",
       "      <td>0.355185</td>\n",
       "    </tr>\n",
       "    <tr>\n",
       "      <th>2</th>\n",
       "      <td>-0.833215</td>\n",
       "      <td>0.626669</td>\n",
       "    </tr>\n",
       "    <tr>\n",
       "      <th>3</th>\n",
       "      <td>-0.866291</td>\n",
       "      <td>0.836810</td>\n",
       "    </tr>\n",
       "    <tr>\n",
       "      <th>4</th>\n",
       "      <td>-0.895948</td>\n",
       "      <td>0.965038</td>\n",
       "    </tr>\n",
       "  </tbody>\n",
       "</table>\n",
       "</div>"
      ],
      "text/plain": [
       "   respiratory   cardiac\n",
       "0    -0.757342  0.048933\n",
       "1    -0.796851  0.355185\n",
       "2    -0.833215  0.626669\n",
       "3    -0.866291  0.836810\n",
       "4    -0.895948  0.965038"
      ]
     },
     "execution_count": 15,
     "metadata": {},
     "output_type": "execute_result"
    }
   ],
   "source": [
    "recfile.get_df(include_timing=False).head()"
   ]
  },
  {
   "cell_type": "markdown",
   "metadata": {},
   "source": [
    "## Other utilities\n",
    "\n",
    "### Filename parsing\n",
    "Say you have a filename, and you want to manually extract BIDS entities from it. The `parse_file_entities` method provides the facility:"
   ]
  },
  {
   "cell_type": "code",
   "execution_count": 16,
   "metadata": {
    "ExecuteTime": {
     "end_time": "2018-08-01T20:05:24.035216Z",
     "start_time": "2018-08-01T20:05:24.030080Z"
    }
   },
   "outputs": [
    {
     "data": {
      "text/plain": [
       "{'subject': '01', 'run': 1, 'suffix': 'T2w', 'extension': 'nii.gz'}"
      ]
     },
     "execution_count": 16,
     "metadata": {},
     "output_type": "execute_result"
    }
   ],
   "source": [
    "path = \"/a/fake/path/to/a/BIDS/file/sub-01_run-1_T2w.nii.gz\"\n",
    "layout.parse_file_entities(path)"
   ]
  },
  {
   "cell_type": "markdown",
   "metadata": {},
   "source": [
    "A version of this utility independent of a specific layout is available at `bids.layout` ([doc](https://bids-standard.github.io/pybids/generated/bids.layout.parse_file_entities.html#bids.layout.parse_file_entities)) - "
   ]
  },
  {
   "cell_type": "code",
   "execution_count": 17,
   "metadata": {},
   "outputs": [
    {
     "data": {
      "text/plain": [
       "{'extension': 'nii.gz', 'run': 1, 'subject': '01', 'suffix': 'T2w'}"
      ]
     },
     "execution_count": 17,
     "metadata": {},
     "output_type": "execute_result"
    }
   ],
   "source": [
    "from bids.layout import parse_file_entities\n",
    "\n",
    "path = \"/a/fake/path/to/a/BIDS/file/sub-01_run-1_T2w.nii.gz\"\n",
    "parse_file_entities(path)"
   ]
  },
  {
   "cell_type": "markdown",
   "metadata": {},
   "source": [
    "### Path construction\n",
    "You may want to create valid BIDS filenames for files that are new or hypothetical that would sit within your BIDS project. This is useful when you know what entity values you need to write out to, but don't want to deal with looking up the precise BIDS file-naming syntax. In the example below, imagine we've created a new file containing stimulus presentation information, and we want to save it to a `.tsv.gz` file, per the BIDS naming conventions. All we need to do is define a dictionary with the name components, and `build_path` takes care of the rest (including injecting sub-directories!):"
   ]
  },
  {
   "cell_type": "code",
   "execution_count": 18,
   "metadata": {
    "ExecuteTime": {
     "end_time": "2018-08-01T20:05:24.049418Z",
     "start_time": "2018-08-01T20:05:24.044544Z"
    }
   },
   "outputs": [
    {
     "data": {
      "text/plain": [
       "'sub-01/func/sub-01_task-nback_run-2_bold.nii.gz'"
      ]
     },
     "execution_count": 18,
     "metadata": {},
     "output_type": "execute_result"
    }
   ],
   "source": [
    "entities = {\n",
    "    'subject': '01',\n",
    "    'run': 2,\n",
    "    'task': 'nback',\n",
    "    'suffix': 'bold'\n",
    "}\n",
    "\n",
    "layout.build_path(entities)"
   ]
  },
  {
   "cell_type": "markdown",
   "metadata": {
    "ExecuteTime": {
     "end_time": "2018-08-01T20:05:24.064220Z",
     "start_time": "2018-08-01T20:05:24.058906Z"
    }
   },
   "source": [
    "You can also use `build_path` in more sophisticated ways—for example, by defining your own set of matching templates that cover cases not supported by BIDS out of the box. For example, suppose you want to create a template for naming a new z-stat file. You could do something like:"
   ]
  },
  {
   "cell_type": "code",
   "execution_count": 19,
   "metadata": {},
   "outputs": [
    {
     "data": {
      "text/plain": [
       "'sub-01_task-nback_run-2_z.nii.gz'"
      ]
     },
     "execution_count": 19,
     "metadata": {},
     "output_type": "execute_result"
    }
   ],
   "source": [
    "# Define the pattern to build out of the components passed in the dictionary\n",
    "pattern = \"sub-{subject}[_ses-{session}]_task-{task}[_acq-{acquisition}][_rec-{reconstruction}][_run-{run}][_echo-{echo}]_{suffix<z>}.nii.gz\",\n",
    "\n",
    "entities = {\n",
    "    'subject': '01',\n",
    "    'run': 2,\n",
    "    'task': 'nback',\n",
    "    'suffix': 'z'\n",
    "}\n",
    "\n",
    "# Notice we pass the new pattern as the second argument\n",
    "layout.build_path(entities, pattern, validate=False)\n"
   ]
  },
  {
   "cell_type": "markdown",
   "metadata": {},
   "source": [
    "Note that in the above example, we set `validate=False` to ensure that the standard BIDS file validator doesn't run (because the pattern we defined isn't actually compliant with the BIDS specification)."
   ]
  },
  {
   "cell_type": "markdown",
   "metadata": {},
   "source": [
    "The `scope` argument to `get()` specifies which part of the project to look in. By default, valid values are `'bids'` (for the \"raw\" BIDS project that excludes derivatives) and `'derivatives'` (for all BIDS-derivatives files). You can also pass the names of individual derivatives pipelines (e.g., passing `'fmriprep'` would search only in a `/derivatives/fmriprep` folder). Either a string or a list of strings can be passed.\n",
    "\n",
    "The following call returns the filenames of all derivatives files."
   ]
  },
  {
   "cell_type": "markdown",
   "metadata": {},
   "source": [
    "### Exporting a `BIDSLayout` to a pandas `Dataframe`\n",
    "If you want a summary of all the files in your `BIDSLayout`, but don't want to have to iterate `BIDSFile` objects and extract their entities, you can get a nice bird's-eye view of your dataset using the `to_df()` method."
   ]
  },
  {
   "cell_type": "code",
   "execution_count": 244,
   "metadata": {
    "ExecuteTime": {
     "end_time": "2018-08-01T20:05:24.275066Z",
     "start_time": "2018-08-01T20:05:24.248179Z"
    },
    "scrolled": true
   },
   "outputs": [
    {
     "data": {
      "text/html": [
       "<div>\n",
       "<style scoped>\n",
       "    .dataframe tbody tr th:only-of-type {\n",
       "        vertical-align: middle;\n",
       "    }\n",
       "\n",
       "    .dataframe tbody tr th {\n",
       "        vertical-align: top;\n",
       "    }\n",
       "\n",
       "    .dataframe thead th {\n",
       "        text-align: right;\n",
       "    }\n",
       "</style>\n",
       "<table border=\"1\" class=\"dataframe\">\n",
       "  <thead>\n",
       "    <tr style=\"text-align: right;\">\n",
       "      <th>entity</th>\n",
       "      <th>path</th>\n",
       "      <th>acquisition</th>\n",
       "      <th>datatype</th>\n",
       "      <th>direction</th>\n",
       "      <th>extension</th>\n",
       "      <th>fmap</th>\n",
       "      <th>run</th>\n",
       "      <th>scans</th>\n",
       "      <th>session</th>\n",
       "      <th>subject</th>\n",
       "      <th>suffix</th>\n",
       "      <th>task</th>\n",
       "    </tr>\n",
       "  </thead>\n",
       "  <tbody>\n",
       "    <tr>\n",
       "      <th>0</th>\n",
       "      <td>/Volumes/Main/Working/IntendedFor/data/dataset...</td>\n",
       "      <td>NaN</td>\n",
       "      <td>NaN</td>\n",
       "      <td>NaN</td>\n",
       "      <td>.json</td>\n",
       "      <td>NaN</td>\n",
       "      <td>NaN</td>\n",
       "      <td>NaN</td>\n",
       "      <td>NaN</td>\n",
       "      <td>NaN</td>\n",
       "      <td>description</td>\n",
       "      <td>NaN</td>\n",
       "    </tr>\n",
       "    <tr>\n",
       "      <th>1</th>\n",
       "      <td>/Volumes/Main/Working/IntendedFor/data/sub-078...</td>\n",
       "      <td>NaN</td>\n",
       "      <td>anat</td>\n",
       "      <td>NaN</td>\n",
       "      <td>.json</td>\n",
       "      <td>NaN</td>\n",
       "      <td>NaN</td>\n",
       "      <td>NaN</td>\n",
       "      <td>NaN</td>\n",
       "      <td>078</td>\n",
       "      <td>T1w</td>\n",
       "      <td>NaN</td>\n",
       "    </tr>\n",
       "    <tr>\n",
       "      <th>2</th>\n",
       "      <td>/Volumes/Main/Working/IntendedFor/data/sub-078...</td>\n",
       "      <td>NaN</td>\n",
       "      <td>anat</td>\n",
       "      <td>NaN</td>\n",
       "      <td>.nii.gz</td>\n",
       "      <td>NaN</td>\n",
       "      <td>NaN</td>\n",
       "      <td>NaN</td>\n",
       "      <td>NaN</td>\n",
       "      <td>078</td>\n",
       "      <td>T1w</td>\n",
       "      <td>NaN</td>\n",
       "    </tr>\n",
       "    <tr>\n",
       "      <th>3</th>\n",
       "      <td>/Volumes/Main/Working/IntendedFor/data/sub-078...</td>\n",
       "      <td>NaN</td>\n",
       "      <td>anat</td>\n",
       "      <td>NaN</td>\n",
       "      <td>.nii.gz</td>\n",
       "      <td>NaN</td>\n",
       "      <td>NaN</td>\n",
       "      <td>NaN</td>\n",
       "      <td>NaN</td>\n",
       "      <td>078</td>\n",
       "      <td>defacemask</td>\n",
       "      <td>NaN</td>\n",
       "    </tr>\n",
       "    <tr>\n",
       "      <th>4</th>\n",
       "      <td>/Volumes/Main/Working/IntendedFor/data/sub-078...</td>\n",
       "      <td>AP</td>\n",
       "      <td>dwi</td>\n",
       "      <td>NaN</td>\n",
       "      <td>.bval</td>\n",
       "      <td>NaN</td>\n",
       "      <td>NaN</td>\n",
       "      <td>NaN</td>\n",
       "      <td>NaN</td>\n",
       "      <td>078</td>\n",
       "      <td>dwi</td>\n",
       "      <td>NaN</td>\n",
       "    </tr>\n",
       "  </tbody>\n",
       "</table>\n",
       "</div>"
      ],
      "text/plain": [
       "entity                                               path acquisition  \\\n",
       "0       /Volumes/Main/Working/IntendedFor/data/dataset...         NaN   \n",
       "1       /Volumes/Main/Working/IntendedFor/data/sub-078...         NaN   \n",
       "2       /Volumes/Main/Working/IntendedFor/data/sub-078...         NaN   \n",
       "3       /Volumes/Main/Working/IntendedFor/data/sub-078...         NaN   \n",
       "4       /Volumes/Main/Working/IntendedFor/data/sub-078...          AP   \n",
       "\n",
       "entity datatype direction extension fmap  run scans session subject  \\\n",
       "0           NaN       NaN     .json  NaN  NaN   NaN     NaN     NaN   \n",
       "1          anat       NaN     .json  NaN  NaN   NaN     NaN     078   \n",
       "2          anat       NaN   .nii.gz  NaN  NaN   NaN     NaN     078   \n",
       "3          anat       NaN   .nii.gz  NaN  NaN   NaN     NaN     078   \n",
       "4           dwi       NaN     .bval  NaN  NaN   NaN     NaN     078   \n",
       "\n",
       "entity       suffix task  \n",
       "0       description  NaN  \n",
       "1               T1w  NaN  \n",
       "2               T1w  NaN  \n",
       "3        defacemask  NaN  \n",
       "4               dwi  NaN  "
      ]
     },
     "execution_count": 244,
     "metadata": {},
     "output_type": "execute_result"
    }
   ],
   "source": [
    "# Convert the layout to a pandas dataframe\n",
    "df = layout.to_df()\n",
    "df.head()"
   ]
  },
  {
   "cell_type": "markdown",
   "metadata": {},
   "source": [
    "We can also include metadata in the result if we like (which may blow up our `DataFrame` if we have a large dataset). Note that in this case, most of our cells will have missing values."
   ]
  },
  {
   "cell_type": "code",
   "execution_count": 245,
   "metadata": {},
   "outputs": [
    {
     "data": {
      "text/html": [
       "<div>\n",
       "<style scoped>\n",
       "    .dataframe tbody tr th:only-of-type {\n",
       "        vertical-align: middle;\n",
       "    }\n",
       "\n",
       "    .dataframe tbody tr th {\n",
       "        vertical-align: top;\n",
       "    }\n",
       "\n",
       "    .dataframe thead th {\n",
       "        text-align: right;\n",
       "    }\n",
       "</style>\n",
       "<table border=\"1\" class=\"dataframe\">\n",
       "  <thead>\n",
       "    <tr style=\"text-align: right;\">\n",
       "      <th>entity</th>\n",
       "      <th>path</th>\n",
       "      <th>AcquisitionMatrixPE</th>\n",
       "      <th>AcquisitionNumber</th>\n",
       "      <th>AcquisitionTime</th>\n",
       "      <th>BandwidthPerPixelPhaseEncode</th>\n",
       "      <th>BaseResolution</th>\n",
       "      <th>BodyPartExamined</th>\n",
       "      <th>BolusDuration</th>\n",
       "      <th>ConsistencyInfo</th>\n",
       "      <th>ConversionSoftware</th>\n",
       "      <th>...</th>\n",
       "      <th>filename</th>\n",
       "      <th>fmap</th>\n",
       "      <th>operator</th>\n",
       "      <th>randstr</th>\n",
       "      <th>run</th>\n",
       "      <th>scans</th>\n",
       "      <th>session</th>\n",
       "      <th>subject</th>\n",
       "      <th>suffix</th>\n",
       "      <th>task</th>\n",
       "    </tr>\n",
       "  </thead>\n",
       "  <tbody>\n",
       "    <tr>\n",
       "      <th>0</th>\n",
       "      <td>/Volumes/Main/Working/IntendedFor/data/dataset...</td>\n",
       "      <td>NaN</td>\n",
       "      <td>NaN</td>\n",
       "      <td>NaN</td>\n",
       "      <td>NaN</td>\n",
       "      <td>NaN</td>\n",
       "      <td>NaN</td>\n",
       "      <td>NaN</td>\n",
       "      <td>NaN</td>\n",
       "      <td>NaN</td>\n",
       "      <td>...</td>\n",
       "      <td>NaN</td>\n",
       "      <td>NaN</td>\n",
       "      <td>NaN</td>\n",
       "      <td>NaN</td>\n",
       "      <td>NaN</td>\n",
       "      <td>NaN</td>\n",
       "      <td>NaN</td>\n",
       "      <td>NaN</td>\n",
       "      <td>description</td>\n",
       "      <td>NaN</td>\n",
       "    </tr>\n",
       "    <tr>\n",
       "      <th>1</th>\n",
       "      <td>/Volumes/Main/Working/IntendedFor/data/sub-078...</td>\n",
       "      <td>NaN</td>\n",
       "      <td>NaN</td>\n",
       "      <td>NaN</td>\n",
       "      <td>NaN</td>\n",
       "      <td>NaN</td>\n",
       "      <td>NaN</td>\n",
       "      <td>NaN</td>\n",
       "      <td>NaN</td>\n",
       "      <td>NaN</td>\n",
       "      <td>...</td>\n",
       "      <td>NaN</td>\n",
       "      <td>NaN</td>\n",
       "      <td>NaN</td>\n",
       "      <td>NaN</td>\n",
       "      <td>NaN</td>\n",
       "      <td>NaN</td>\n",
       "      <td>NaN</td>\n",
       "      <td>078</td>\n",
       "      <td>T1w</td>\n",
       "      <td>NaN</td>\n",
       "    </tr>\n",
       "    <tr>\n",
       "      <th>2</th>\n",
       "      <td>/Volumes/Main/Working/IntendedFor/data/sub-078...</td>\n",
       "      <td>240</td>\n",
       "      <td>1</td>\n",
       "      <td>15:37:3.697500</td>\n",
       "      <td>NaN</td>\n",
       "      <td>256</td>\n",
       "      <td>HEAD</td>\n",
       "      <td>NaN</td>\n",
       "      <td>N4_VD13A_LATEST_20120616</td>\n",
       "      <td>dcm2niix</td>\n",
       "      <td>...</td>\n",
       "      <td>NaN</td>\n",
       "      <td>NaN</td>\n",
       "      <td>NaN</td>\n",
       "      <td>NaN</td>\n",
       "      <td>NaN</td>\n",
       "      <td>NaN</td>\n",
       "      <td>NaN</td>\n",
       "      <td>078</td>\n",
       "      <td>T1w</td>\n",
       "      <td>NaN</td>\n",
       "    </tr>\n",
       "    <tr>\n",
       "      <th>3</th>\n",
       "      <td>/Volumes/Main/Working/IntendedFor/data/sub-078...</td>\n",
       "      <td>NaN</td>\n",
       "      <td>NaN</td>\n",
       "      <td>NaN</td>\n",
       "      <td>NaN</td>\n",
       "      <td>NaN</td>\n",
       "      <td>NaN</td>\n",
       "      <td>NaN</td>\n",
       "      <td>NaN</td>\n",
       "      <td>NaN</td>\n",
       "      <td>...</td>\n",
       "      <td>NaN</td>\n",
       "      <td>NaN</td>\n",
       "      <td>NaN</td>\n",
       "      <td>NaN</td>\n",
       "      <td>NaN</td>\n",
       "      <td>NaN</td>\n",
       "      <td>NaN</td>\n",
       "      <td>078</td>\n",
       "      <td>defacemask</td>\n",
       "      <td>NaN</td>\n",
       "    </tr>\n",
       "    <tr>\n",
       "      <th>4</th>\n",
       "      <td>/Volumes/Main/Working/IntendedFor/data/sub-078...</td>\n",
       "      <td>128</td>\n",
       "      <td>1</td>\n",
       "      <td>15:29:39.717500</td>\n",
       "      <td>16.622</td>\n",
       "      <td>128</td>\n",
       "      <td>HEAD</td>\n",
       "      <td>NaN</td>\n",
       "      <td>N4_VD13A_LATEST_20120616</td>\n",
       "      <td>dcm2niix</td>\n",
       "      <td>...</td>\n",
       "      <td>NaN</td>\n",
       "      <td>NaN</td>\n",
       "      <td>NaN</td>\n",
       "      <td>NaN</td>\n",
       "      <td>NaN</td>\n",
       "      <td>NaN</td>\n",
       "      <td>NaN</td>\n",
       "      <td>078</td>\n",
       "      <td>dwi</td>\n",
       "      <td>NaN</td>\n",
       "    </tr>\n",
       "  </tbody>\n",
       "</table>\n",
       "<p>5 rows × 89 columns</p>\n",
       "</div>"
      ],
      "text/plain": [
       "entity                                               path AcquisitionMatrixPE  \\\n",
       "0       /Volumes/Main/Working/IntendedFor/data/dataset...                 NaN   \n",
       "1       /Volumes/Main/Working/IntendedFor/data/sub-078...                 NaN   \n",
       "2       /Volumes/Main/Working/IntendedFor/data/sub-078...                 240   \n",
       "3       /Volumes/Main/Working/IntendedFor/data/sub-078...                 NaN   \n",
       "4       /Volumes/Main/Working/IntendedFor/data/sub-078...                 128   \n",
       "\n",
       "entity AcquisitionNumber  AcquisitionTime BandwidthPerPixelPhaseEncode  \\\n",
       "0                    NaN              NaN                          NaN   \n",
       "1                    NaN              NaN                          NaN   \n",
       "2                      1   15:37:3.697500                          NaN   \n",
       "3                    NaN              NaN                          NaN   \n",
       "4                      1  15:29:39.717500                       16.622   \n",
       "\n",
       "entity BaseResolution BodyPartExamined BolusDuration  \\\n",
       "0                 NaN              NaN           NaN   \n",
       "1                 NaN              NaN           NaN   \n",
       "2                 256             HEAD           NaN   \n",
       "3                 NaN              NaN           NaN   \n",
       "4                 128             HEAD           NaN   \n",
       "\n",
       "entity           ConsistencyInfo ConversionSoftware  ... filename fmap  \\\n",
       "0                            NaN                NaN  ...      NaN  NaN   \n",
       "1                            NaN                NaN  ...      NaN  NaN   \n",
       "2       N4_VD13A_LATEST_20120616           dcm2niix  ...      NaN  NaN   \n",
       "3                            NaN                NaN  ...      NaN  NaN   \n",
       "4       N4_VD13A_LATEST_20120616           dcm2niix  ...      NaN  NaN   \n",
       "\n",
       "entity operator randstr  run scans session subject       suffix task  \n",
       "0           NaN     NaN  NaN   NaN     NaN     NaN  description  NaN  \n",
       "1           NaN     NaN  NaN   NaN     NaN     078          T1w  NaN  \n",
       "2           NaN     NaN  NaN   NaN     NaN     078          T1w  NaN  \n",
       "3           NaN     NaN  NaN   NaN     NaN     078   defacemask  NaN  \n",
       "4           NaN     NaN  NaN   NaN     NaN     078          dwi  NaN  \n",
       "\n",
       "[5 rows x 89 columns]"
      ]
     },
     "execution_count": 245,
     "metadata": {},
     "output_type": "execute_result"
    }
   ],
   "source": [
    "layout.to_df(metadata=True).head()"
   ]
  },
  {
   "cell_type": "markdown",
   "metadata": {},
   "source": [
    "## Retrieving BIDS variables \n",
    "BIDS variables are stored in .tsv files at the run, session, subject, or dataset level. You can retrieve these variables with `layout.get_collections()`. The resulting objects can be converted to dataframes and merged with the layout to associate the variables with corresponding scans.\n",
    "\n",
    "In the following example, we request all subject-level variable data available anywhere in the BIDS project, and merge the results into a single `DataFrame` (by default, we'll get back a single `BIDSVariableCollection` object for each subject). "
   ]
  },
  {
   "cell_type": "markdown",
   "metadata": {},
   "source": [
    "## BIDSValidator\n",
    "\n",
    "`pybids` implicitly imports a `BIDSValidator` class from the separate [`bids-validator`](https://github.com/bids-standard/bids-validator) package. You can use the `BIDSValidator` to determine whether a filepath is a valid BIDS filepath, as well as answering questions about what kind of data it represents. Note, however, that this implementation of the BIDS validator is *not* necessarily up-to-date with the JavaScript version available online. Moreover, the Python validator only tests individual files, and is currently unable to validate entire BIDS datasets. For that, you should use the [online BIDS validator](https://bids-standard.github.io/bids-validator/)."
   ]
  },
  {
   "cell_type": "code",
   "execution_count": 248,
   "metadata": {
    "ExecuteTime": {
     "end_time": "2018-08-01T20:05:27.763448Z",
     "start_time": "2018-08-01T20:05:27.749652Z"
    }
   },
   "outputs": [
    {
     "data": {
      "text/plain": [
       "True"
      ]
     },
     "execution_count": 248,
     "metadata": {},
     "output_type": "execute_result"
    }
   ],
   "source": [
    "from bids import BIDSValidator\n",
    "\n",
    "# Note that when using the bids validator, the filepath MUST be relative to the top level bids directory\n",
    "validator = BIDSValidator()\n",
    "validator.is_bids('/sub-188/anat/sub-188_T1w.nii.gz')"
   ]
  },
  {
   "cell_type": "code",
   "execution_count": 249,
   "metadata": {
    "ExecuteTime": {
     "end_time": "2018-08-01T20:05:27.773052Z",
     "start_time": "2018-08-01T20:05:27.765263Z"
    }
   },
   "outputs": [
    {
     "data": {
      "text/plain": [
       "True"
      ]
     },
     "execution_count": 249,
     "metadata": {},
     "output_type": "execute_result"
    }
   ],
   "source": [
    "# Can decide if a filepath represents a file part of the specification\n",
    "validator.is_file('/sub-188/anat/sub-188_T1w.json')"
   ]
  },
  {
   "cell_type": "code",
   "execution_count": 250,
   "metadata": {},
   "outputs": [
    {
     "data": {
      "text/plain": [
       "True"
      ]
     },
     "execution_count": 250,
     "metadata": {},
     "output_type": "execute_result"
    }
   ],
   "source": [
    "# Can check if a file is at the top level of the dataset\n",
    "validator.is_top_level('/dataset_description.json')"
   ]
  },
  {
   "cell_type": "code",
   "execution_count": 251,
   "metadata": {},
   "outputs": [
    {
     "data": {
      "text/plain": [
       "False"
      ]
     },
     "execution_count": 251,
     "metadata": {},
     "output_type": "execute_result"
    }
   ],
   "source": [
    "# or subject (or session) level\n",
    "validator.is_subject_level('/dataset_description.json')"
   ]
  },
  {
   "cell_type": "code",
   "execution_count": 252,
   "metadata": {},
   "outputs": [
    {
     "data": {
      "text/plain": [
       "True"
      ]
     },
     "execution_count": 252,
     "metadata": {},
     "output_type": "execute_result"
    }
   ],
   "source": [
    "validator.is_session_level('/sub-219/ses-itbs/sub-219_ses-itbs_scans.json')"
   ]
  },
  {
   "cell_type": "code",
   "execution_count": 253,
   "metadata": {
    "ExecuteTime": {
     "end_time": "2018-08-01T20:05:27.780022Z",
     "start_time": "2018-08-01T20:05:27.775281Z"
    }
   },
   "outputs": [
    {
     "data": {
      "text/plain": [
       "False"
      ]
     },
     "execution_count": 253,
     "metadata": {},
     "output_type": "execute_result"
    }
   ],
   "source": [
    "# Can decide if a filepath represents phenotypic data\n",
    "validator.is_phenotypic('/sub-188/anat/sub-188_T1w.nii.gz')"
   ]
  },
  {
   "cell_type": "code",
   "execution_count": null,
   "metadata": {},
   "outputs": [],
   "source": []
  }
 ],
 "metadata": {
  "kernelspec": {
   "display_name": "Python 3",
   "language": "python",
   "name": "python3"
  },
  "language_info": {
   "codemirror_mode": {
    "name": "ipython",
    "version": 3
   },
   "file_extension": ".py",
   "mimetype": "text/x-python",
   "name": "python",
   "nbconvert_exporter": "python",
   "pygments_lexer": "ipython3",
   "version": "3.9.4"
  },
  "toc": {
   "nav_menu": {},
   "number_sections": true,
   "sideBar": true,
   "skip_h1_title": false,
   "toc_cell": false,
   "toc_position": {},
   "toc_section_display": "block",
   "toc_window_display": false
  },
  "toc-autonumbering": false,
  "toc-showcode": false,
  "toc-showmarkdowntxt": false
 },
 "nbformat": 4,
 "nbformat_minor": 4
}
